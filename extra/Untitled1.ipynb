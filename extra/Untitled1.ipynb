{
 "cells": [
  {
   "cell_type": "code",
   "execution_count": 1,
   "id": "345f7f9d-61e3-407e-a1b5-e736163011e1",
   "metadata": {},
   "outputs": [],
   "source": [
    "import pandas as pd"
   ]
  },
  {
   "cell_type": "code",
   "execution_count": 3,
   "id": "218e3ab3-d80e-4c71-ab0a-975d0ad8bb27",
   "metadata": {},
   "outputs": [],
   "source": [
    "data1 = pd.read_csv(\"2020-4-27.csv\")"
   ]
  },
  {
   "cell_type": "code",
   "execution_count": 5,
   "id": "3421c6b9-c0f9-431b-9c3b-eca8b545ab8f",
   "metadata": {},
   "outputs": [],
   "source": [
    "data2 = pd.read_csv(\"cleaned_data.csv\")"
   ]
  },
  {
   "cell_type": "code",
   "execution_count": 7,
   "id": "f8a71201-8874-4a5d-a78c-aa229a08120b",
   "metadata": {},
   "outputs": [],
   "source": [
    "org = len(data1)"
   ]
  },
  {
   "cell_type": "code",
   "execution_count": 9,
   "id": "dde3a9b9-d5e7-422e-927b-807fe27e95ef",
   "metadata": {},
   "outputs": [],
   "source": [
    "new = len(data2)"
   ]
  },
  {
   "cell_type": "code",
   "execution_count": 11,
   "id": "70040236-580b-4dc8-9932-2287f1c8a4ae",
   "metadata": {},
   "outputs": [
    {
     "name": "stdout",
     "output_type": "stream",
     "text": [
      "Dropped rows: 542 (24.51%)\n",
      "Remaining rows: 1669 (75.49%)\n"
     ]
    }
   ],
   "source": [
    "dropped_rows = org - new\n",
    "\n",
    "print(f\"Dropped rows: {dropped_rows} ({dropped_rows/org:.2%})\")\n",
    "print(f\"Remaining rows: {new} ({new/org:.2%})\")"
   ]
  },
  {
   "cell_type": "code",
   "execution_count": null,
   "id": "75ab00f0-e607-4169-a796-467fbcbc653e",
   "metadata": {},
   "outputs": [],
   "source": []
  }
 ],
 "metadata": {
  "kernelspec": {
   "display_name": "Python [conda env:base] *",
   "language": "python",
   "name": "conda-base-py"
  },
  "language_info": {
   "codemirror_mode": {
    "name": "ipython",
    "version": 3
   },
   "file_extension": ".py",
   "mimetype": "text/x-python",
   "name": "python",
   "nbconvert_exporter": "python",
   "pygments_lexer": "ipython3",
   "version": "3.12.3"
  }
 },
 "nbformat": 4,
 "nbformat_minor": 5
}
