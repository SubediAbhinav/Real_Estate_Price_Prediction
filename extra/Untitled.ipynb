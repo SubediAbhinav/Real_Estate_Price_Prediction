{
 "cells": [
  {
   "cell_type": "code",
   "execution_count": 1,
   "id": "51d21cd2-4342-4635-b57d-99ab53577353",
   "metadata": {},
   "outputs": [],
   "source": [
    "import pandas as pd"
   ]
  },
  {
   "cell_type": "code",
   "execution_count": 3,
   "id": "d0a673c3-f848-4b9d-a841-b18faf6c231b",
   "metadata": {},
   "outputs": [],
   "source": [
    "data = pd.read_csv(\"2020-4-27.csv\")"
   ]
  },
  {
   "cell_type": "code",
   "execution_count": 5,
   "id": "1f0d3659-ac19-4174-a8eb-94201d5a4e12",
   "metadata": {},
   "outputs": [],
   "source": [
    "data2 = pd.read_csv(\"cleaned_data.csv\")"
   ]
  },
  {
   "cell_type": "code",
   "execution_count": 7,
   "id": "027ded23-4789-4ed0-89a4-73d279aee55d",
   "metadata": {},
   "outputs": [],
   "source": [
    "original_rows = len(data)"
   ]
  },
  {
   "cell_type": "code",
   "execution_count": 9,
   "id": "a298a3b9-1e4c-408f-8fd7-7121794894a5",
   "metadata": {},
   "outputs": [],
   "source": [
    "cleaned_rows = len(data2)"
   ]
  },
  {
   "cell_type": "code",
   "execution_count": 11,
   "id": "19011e66-3fdb-485a-a321-71d5fe4dbc88",
   "metadata": {},
   "outputs": [],
   "source": [
    "dropped = original_rows - cleaned_rows"
   ]
  },
  {
   "cell_type": "code",
   "execution_count": 13,
   "id": "d80250c2-cf83-43a0-9614-8ca9e4c83cc4",
   "metadata": {},
   "outputs": [
    {
     "name": "stdout",
     "output_type": "stream",
     "text": [
      "Dropped: 1394 (63.05%)\n",
      "Remaining rows: 817 (36.95%)\n"
     ]
    }
   ],
   "source": [
    "print(f\"Dropped: {dropped} ({dropped/original_rows:.2%})\")\n",
    "print(f\"Remaining rows: {cleaned_rows} ({cleaned_rows/original_rows:.2%})\")\n"
   ]
  },
  {
   "cell_type": "code",
   "execution_count": null,
   "id": "3e4b5ffa-9dfa-40e8-8c32-a1618e3c545e",
   "metadata": {},
   "outputs": [],
   "source": []
  }
 ],
 "metadata": {
  "kernelspec": {
   "display_name": "Python [conda env:base] *",
   "language": "python",
   "name": "conda-base-py"
  },
  "language_info": {
   "codemirror_mode": {
    "name": "ipython",
    "version": 3
   },
   "file_extension": ".py",
   "mimetype": "text/x-python",
   "name": "python",
   "nbconvert_exporter": "python",
   "pygments_lexer": "ipython3",
   "version": "3.12.3"
  }
 },
 "nbformat": 4,
 "nbformat_minor": 5
}
