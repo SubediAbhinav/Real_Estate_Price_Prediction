{
 "cells": [
  {
   "cell_type": "code",
   "execution_count": 1,
   "id": "e45fd6f9-13ce-4c56-99b4-6eae80f2004c",
   "metadata": {},
   "outputs": [],
   "source": [
    "import pandas as pd\n",
    "import pickle"
   ]
  },
  {
   "cell_type": "code",
   "execution_count": 3,
   "id": "1a475b4a-2a32-4fde-b2f9-a98b65348bf5",
   "metadata": {},
   "outputs": [],
   "source": [
    "df= pd.read_csv(\"cleaned_data.csv\")"
   ]
  },
  {
   "cell_type": "code",
   "execution_count": 3,
   "id": "740a9705-1cb0-41dc-baf5-287fbd882749",
   "metadata": {},
   "outputs": [],
   "source": [
    "encoded_columns = pd.get_dummies(df[['City', 'Road_Type']], dtype=int)\n",
    "encoded_column_names = encoded_columns.columns.tolist()"
   ]
  },
  {
   "cell_type": "code",
   "execution_count": 4,
   "id": "e55805fc-fc8f-40fb-999f-4cc44da0bdaf",
   "metadata": {},
   "outputs": [],
   "source": [
    "with open(\"encoded_columns.pkl\", \"wb\") as f:\n",
    "    pickle.dump(encoded_column_names, f)"
   ]
  },
  {
   "cell_type": "code",
   "execution_count": null,
   "id": "4c6ecea2-a022-4d4e-993f-b5571b65ff2a",
   "metadata": {},
   "outputs": [],
   "source": []
  }
 ],
 "metadata": {
  "kernelspec": {
   "display_name": "Python [conda env:base] *",
   "language": "python",
   "name": "conda-base-py"
  },
  "language_info": {
   "codemirror_mode": {
    "name": "ipython",
    "version": 3
   },
   "file_extension": ".py",
   "mimetype": "text/x-python",
   "name": "python",
   "nbconvert_exporter": "python",
   "pygments_lexer": "ipython3",
   "version": "3.12.3"
  }
 },
 "nbformat": 4,
 "nbformat_minor": 5
}
