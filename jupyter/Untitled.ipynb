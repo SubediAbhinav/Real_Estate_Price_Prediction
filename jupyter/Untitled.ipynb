{
 "cells": [
  {
   "cell_type": "code",
   "execution_count": 31,
   "id": "86f0fa18-1396-499b-afd7-2b3bf80e56ec",
   "metadata": {},
   "outputs": [],
   "source": [
    "import pandas as pd\n",
    "import numpy as np\n",
    "from sklearn.preprocessing import StandardScaler\n",
    "import joblib"
   ]
  },
  {
   "cell_type": "code",
   "execution_count": 33,
   "id": "5c9120d3-e27e-463a-93b9-4707ef4dde45",
   "metadata": {},
   "outputs": [],
   "source": [
    "df = pd.read_csv(\"cleaned_data.csv\")"
   ]
  },
  {
   "cell_type": "code",
   "execution_count": null,
   "id": "dc9c1509-2ecd-4c58-9d32-09338debc8ef",
   "metadata": {},
   "outputs": [],
   "source": []
  },
  {
   "cell_type": "code",
   "execution_count": 36,
   "id": "878dad02-3e44-43f3-9b8a-97976d1a7486",
   "metadata": {},
   "outputs": [
    {
     "data": {
      "text/plain": [
       "15000"
      ]
     },
     "execution_count": 36,
     "metadata": {},
     "output_type": "execute_result"
    }
   ],
   "source": [
    "min_price = df['Price'].min()\n",
    "min_price"
   ]
  },
  {
   "cell_type": "code",
   "execution_count": 38,
   "id": "d4f20d50-fe71-4716-8068-d0ab49a9caee",
   "metadata": {},
   "outputs": [
    {
     "data": {
      "text/plain": [
       "235000000"
      ]
     },
     "execution_count": 38,
     "metadata": {},
     "output_type": "execute_result"
    }
   ],
   "source": [
    "max_price = df['Price'].max()\n",
    "max_price"
   ]
  },
  {
   "cell_type": "code",
   "execution_count": 40,
   "id": "dc46f985-6d8e-410e-87c2-861833406eb4",
   "metadata": {},
   "outputs": [
    {
     "name": "stdout",
     "output_type": "stream",
     "text": [
      "Price per sq.ft statistics:\n",
      "count    1.669000e+03\n",
      "mean     4.064909e+06\n",
      "std      6.312814e+06\n",
      "min      1.071429e+03\n",
      "25%      4.130603e+05\n",
      "50%      4.000000e+06\n",
      "75%      6.000000e+06\n",
      "max      1.175000e+08\n",
      "Name: price_per_sqft, dtype: float64\n"
     ]
    }
   ],
   "source": [
    "# Price per sq.ft\n",
    "df['price_per_sqft'] = df['Price'] / df['Area']\n",
    "\n",
    "# Check basic stats\n",
    "print(\"Price per sq.ft statistics:\")\n",
    "print(df['price_per_sqft'].describe())\n"
   ]
  },
  {
   "cell_type": "code",
   "execution_count": 17,
   "id": "b9c86217-ad71-4554-8ebd-621dce1571e5",
   "metadata": {},
   "outputs": [],
   "source": [
    "scaler = StandardScaler()\n",
    "df['Price'] = scaler.fit_transform(df[['Price']])"
   ]
  },
  {
   "cell_type": "code",
   "execution_count": 19,
   "id": "07779933-02c6-4b8e-8a9a-bfe7c7d5af77",
   "metadata": {},
   "outputs": [
    {
     "data": {
      "text/plain": [
       "['price_scaler.pkl']"
      ]
     },
     "execution_count": 19,
     "metadata": {},
     "output_type": "execute_result"
    }
   ],
   "source": [
    "joblib.dump(scaler, \"price_scaler.pkl\")"
   ]
  },
  {
   "cell_type": "code",
   "execution_count": 21,
   "id": "ca2600e6-72c8-440c-a2c5-830c994efd4b",
   "metadata": {},
   "outputs": [],
   "source": [
    "data = pd.read_csv(\"house_data.csv\")"
   ]
  },
  {
   "cell_type": "code",
   "execution_count": 23,
   "id": "67cc6120-e080-4a24-bff5-eff3dad17d47",
   "metadata": {},
   "outputs": [
    {
     "ename": "NameError",
     "evalue": "name 'df_real' is not defined",
     "output_type": "error",
     "traceback": [
      "\u001b[1;31m---------------------------------------------------------------------------\u001b[0m",
      "\u001b[1;31mNameError\u001b[0m                                 Traceback (most recent call last)",
      "Cell \u001b[1;32mIn[23], line 2\u001b[0m\n\u001b[0;32m      1\u001b[0m \u001b[38;5;28;01mimport\u001b[39;00m \u001b[38;5;21;01mseaborn\u001b[39;00m \u001b[38;5;28;01mas\u001b[39;00m \u001b[38;5;21;01msns\u001b[39;00m\n\u001b[1;32m----> 2\u001b[0m sns\u001b[38;5;241m.\u001b[39mkdeplot(df_real[\u001b[38;5;124m'\u001b[39m\u001b[38;5;124mArea\u001b[39m\u001b[38;5;124m'\u001b[39m], label\u001b[38;5;241m=\u001b[39m\u001b[38;5;124m'\u001b[39m\u001b[38;5;124mreal\u001b[39m\u001b[38;5;124m'\u001b[39m)\n\u001b[0;32m      3\u001b[0m sns\u001b[38;5;241m.\u001b[39mkdeplot(df_synth[\u001b[38;5;124m'\u001b[39m\u001b[38;5;124mArea\u001b[39m\u001b[38;5;124m'\u001b[39m], label\u001b[38;5;241m=\u001b[39m\u001b[38;5;124m'\u001b[39m\u001b[38;5;124msynth\u001b[39m\u001b[38;5;124m'\u001b[39m)\n",
      "\u001b[1;31mNameError\u001b[0m: name 'df_real' is not defined"
     ]
    }
   ],
   "source": [
    "import seaborn as sns\n",
    "sns.kdeplot(df_real['Area'], label='real')\n",
    "sns.kdeplot(df_synth['Area'], label='synth')\n"
   ]
  },
  {
   "cell_type": "code",
   "execution_count": 25,
   "id": "e91168df-d262-44db-9002-adc2f3a69721",
   "metadata": {},
   "outputs": [],
   "source": [
    "min_price = df['Price'].min()"
   ]
  },
  {
   "cell_type": "code",
   "execution_count": 27,
   "id": "95deb9b0-d91d-49bd-befc-a611e98ab88e",
   "metadata": {},
   "outputs": [
    {
     "data": {
      "text/plain": [
       "-0.6863503572129344"
      ]
     },
     "execution_count": 27,
     "metadata": {},
     "output_type": "execute_result"
    }
   ],
   "source": [
    "min_price"
   ]
  },
  {
   "cell_type": "code",
   "execution_count": null,
   "id": "93675bfe-e42d-40c5-9f74-59f90c01b1a7",
   "metadata": {},
   "outputs": [],
   "source": []
  }
 ],
 "metadata": {
  "kernelspec": {
   "display_name": "Python [conda env:base] *",
   "language": "python",
   "name": "conda-base-py"
  },
  "language_info": {
   "codemirror_mode": {
    "name": "ipython",
    "version": 3
   },
   "file_extension": ".py",
   "mimetype": "text/x-python",
   "name": "python",
   "nbconvert_exporter": "python",
   "pygments_lexer": "ipython3",
   "version": "3.12.3"
  }
 },
 "nbformat": 4,
 "nbformat_minor": 5
}
