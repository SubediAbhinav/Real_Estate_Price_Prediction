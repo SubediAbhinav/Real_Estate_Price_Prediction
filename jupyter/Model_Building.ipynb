{
 "cells": [
  {
   "cell_type": "code",
   "execution_count": 5,
   "id": "52069b96-0bf5-482f-99b8-4cabfb651674",
   "metadata": {},
   "outputs": [],
   "source": [
    "import pandas as pd\n",
    "import numpy as np\n",
    "import matplotlib.pyplot as plt\n",
    "import seaborn as sns"
   ]
  },
  {
   "cell_type": "code",
   "execution_count": 6,
   "id": "841a609b-87de-4d47-a44c-34319ecc1a2e",
   "metadata": {},
   "outputs": [],
   "source": [
    "from sklearn.model_selection import train_test_split\n",
    "from sklearn.metrics import root_mean_squared_error,mean_squared_error, mean_absolute_error, r2_score\n",
    "from sklearn.model_selection import GridSearchCV\n",
    "from sklearn.preprocessing import StandardScaler"
   ]
  },
  {
   "cell_type": "markdown",
   "id": "561a3fd3-e81c-4aea-b87a-22961a8fd0a6",
   "metadata": {},
   "source": [
    "# **Model Building**"
   ]
  },
  {
   "cell_type": "code",
   "execution_count": 8,
   "id": "9a88a7d6-0a34-4bdd-af6d-aa0cecf2e6d3",
   "metadata": {},
   "outputs": [],
   "source": [
    "from model_collection import LinearRegression, RidgeRegression, XGBoostRegressor"
   ]
  },
  {
   "cell_type": "code",
   "execution_count": 9,
   "id": "30c61910-41f1-4397-90ba-ceaffe59f039",
   "metadata": {},
   "outputs": [],
   "source": [
    "data=pd.read_csv(\"house_data.csv\")"
   ]
  },
  {
   "cell_type": "code",
   "execution_count": 10,
   "id": "cb856f2e-2692-4238-902a-9d22419867d5",
   "metadata": {},
   "outputs": [],
   "source": [
    "# # data is your training DataFrame used to build the final dataset\n",
    "# print(data['Area'].dtype)\n",
    "# print(data['Area'].isnull().sum(), \"nulls\")\n",
    "# print(\"unique count:\", data['Area'].nunique())\n",
    "# print(data['Area'].describe())\n",
    "# # check top repeated values (synthetic data might produce many identical area)\n",
    "# print(data['Area'].value_counts().head(20))"
   ]
  },
  {
   "cell_type": "code",
   "execution_count": 11,
   "id": "b809c090-b16a-47f6-b50a-ba50f6f2929d",
   "metadata": {},
   "outputs": [],
   "source": [
    "# data.corr()['Price'].sort_values(ascending=False)\n"
   ]
  },
  {
   "cell_type": "code",
   "execution_count": 12,
   "id": "4cca2509-716d-4560-8690-53bd521660d0",
   "metadata": {},
   "outputs": [],
   "source": [
    "# import pandas as pd\n",
    "\n",
    "# # Suppose your dataset is in a DataFrame called `data`\n",
    "\n",
    "# # Show min and max for each numeric column\n",
    "# print(data.describe().T[[\"min\", \"max\"]])\n"
   ]
  },
  {
   "cell_type": "code",
   "execution_count": 13,
   "id": "9f495615-dab1-480c-b9bb-6e880306c811",
   "metadata": {},
   "outputs": [],
   "source": [
    "# Feature engineering\n",
    "data[\"Log_Area\"] = np.log1p(data[\"Area\"])\n",
    "data[\"Area_x_RoadWidth\"] = data[\"Area\"] * data[\"Road_Width\"]"
   ]
  },
  {
   "cell_type": "code",
   "execution_count": 14,
   "id": "e9bb7e65-efcb-4f7d-b5a5-3f4efb3c4e82",
   "metadata": {},
   "outputs": [],
   "source": [
    "# Define features (X) and target (y)\n",
    "X = data.drop(columns=[\"Price\"])\n",
    "y = data[\"Price\"]"
   ]
  },
  {
   "cell_type": "code",
   "execution_count": 15,
   "id": "ea225393-dbf3-4636-9906-bb0d3b967f09",
   "metadata": {},
   "outputs": [],
   "source": [
    "X_train, X_test, y_train, y_test = train_test_split(X, y, test_size=0.2, random_state=42)"
   ]
  },
  {
   "cell_type": "code",
   "execution_count": 16,
   "id": "e15427b7-ff98-47d7-9e57-ae00d877d177",
   "metadata": {},
   "outputs": [],
   "source": [
    "scaler = StandardScaler()\n",
    "X_train_scaled = scaler.fit_transform(X_train)\n",
    "X_test_scaled = scaler.transform(X_test)\n",
    "\n",
    "# Log-transform target\n",
    "y_train_log = np.log1p(y_train)\n",
    "y_test_log = np.log1p(y_test)"
   ]
  },
  {
   "cell_type": "code",
   "execution_count": 17,
   "id": "af625548-e859-48c3-a77b-1e0f41bd78b4",
   "metadata": {},
   "outputs": [],
   "source": [
    "results = {}"
   ]
  },
  {
   "cell_type": "markdown",
   "id": "c6d4d325-fa9a-4e19-a34e-d4cb53cc4cff",
   "metadata": {},
   "source": [
    "## **Linear Regression**"
   ]
  },
  {
   "cell_type": "code",
   "execution_count": 19,
   "id": "8f05f54f-dcdd-4601-93db-a05c8f5c938e",
   "metadata": {},
   "outputs": [
    {
     "data": {
      "text/plain": [
       "LinearRegression()"
      ]
     },
     "execution_count": 19,
     "metadata": {},
     "output_type": "execute_result"
    }
   ],
   "source": [
    "lr = LinearRegression()\n",
    "lr.fit(X_train_scaled, y_train_log)"
   ]
  },
  {
   "cell_type": "code",
   "execution_count": 20,
   "id": "681c83de-761c-41fe-a527-ec4fd0d78a2b",
   "metadata": {},
   "outputs": [],
   "source": [
    "y_pred_lr_log = lr.predict(X_test_scaled)\n",
    "y_pred_lr = np.expm1(y_pred_lr_log)   # back-transform"
   ]
  },
  {
   "cell_type": "code",
   "execution_count": 21,
   "id": "e750a5af-d690-43ed-b5ef-dd64cbd9d909",
   "metadata": {},
   "outputs": [
    {
     "name": "stderr",
     "output_type": "stream",
     "text": [
      "D:\\Anaconda\\Lib\\site-packages\\sklearn\\metrics\\_regression.py:492: FutureWarning: 'squared' is deprecated in version 1.4 and will be removed in 1.6. To calculate the root mean squared error, use the function'root_mean_squared_error'.\n",
      "  warnings.warn(\n"
     ]
    }
   ],
   "source": [
    "rmse_lr = mean_squared_error(y_test, y_pred_lr, squared=False)\n",
    "mae_lr = mean_absolute_error(y_test, y_pred_lr)\n",
    "r2_lr = r2_score(y_test, y_pred_lr)"
   ]
  },
  {
   "cell_type": "code",
   "execution_count": 22,
   "id": "2e47c94b-2e65-43da-bb2c-e3ad12d8390c",
   "metadata": {},
   "outputs": [],
   "source": [
    "results[\"Linear Regression\"] = [rmse_lr, mae_lr, r2_lr]"
   ]
  },
  {
   "cell_type": "code",
   "execution_count": 23,
   "id": "2b50717a-fa40-42d0-b22f-4af76de0356a",
   "metadata": {},
   "outputs": [
    {
     "name": "stdout",
     "output_type": "stream",
     "text": [
      "Linear Regression — RMSE: 50092831, MAE: 25320447, R²: 0.867\n"
     ]
    }
   ],
   "source": [
    "print(f\"Linear Regression — RMSE: {rmse_lr:.0f}, MAE: {mae_lr:.0f}, R²: {r2_lr:.3f}\")"
   ]
  },
  {
   "cell_type": "markdown",
   "id": "b999f2a1-4ff2-489e-97a4-73314e2af871",
   "metadata": {},
   "source": [
    "## **Ridge Regression**"
   ]
  },
  {
   "cell_type": "code",
   "execution_count": 25,
   "id": "45b4f288-8946-42ad-9120-fcbbf88d1adc",
   "metadata": {},
   "outputs": [
    {
     "data": {
      "text/plain": [
       "RidgeRegression(alpha=10.0)"
      ]
     },
     "execution_count": 25,
     "metadata": {},
     "output_type": "execute_result"
    }
   ],
   "source": [
    "ridge = RidgeRegression(alpha=10.0)\n",
    "ridge.fit(X_train_scaled, y_train_log)\n"
   ]
  },
  {
   "cell_type": "code",
   "execution_count": 26,
   "id": "95cd0f29-2d2d-4071-8eaf-fd64b6da495a",
   "metadata": {},
   "outputs": [],
   "source": [
    "y_pred_ridge_log = ridge.predict(X_test_scaled)\n",
    "y_pred_ridge = np.expm1(y_pred_ridge_log)"
   ]
  },
  {
   "cell_type": "code",
   "execution_count": 27,
   "id": "e4cb9043-1b57-4262-95e2-722b13972c5f",
   "metadata": {},
   "outputs": [
    {
     "name": "stderr",
     "output_type": "stream",
     "text": [
      "D:\\Anaconda\\Lib\\site-packages\\sklearn\\metrics\\_regression.py:492: FutureWarning: 'squared' is deprecated in version 1.4 and will be removed in 1.6. To calculate the root mean squared error, use the function'root_mean_squared_error'.\n",
      "  warnings.warn(\n"
     ]
    }
   ],
   "source": [
    "rmse_ridge = mean_squared_error(y_test, y_pred_ridge, squared=False)\n",
    "mae_ridge = mean_absolute_error(y_test, y_pred_ridge)\n",
    "r2_ridge = r2_score(y_test, y_pred_ridge)"
   ]
  },
  {
   "cell_type": "code",
   "execution_count": 28,
   "id": "df68bac7-3aad-4b88-8667-2b750b7c9b92",
   "metadata": {},
   "outputs": [],
   "source": [
    "results[\"Ridge Regression\"] = [rmse_ridge, mae_ridge, r2_ridge]"
   ]
  },
  {
   "cell_type": "code",
   "execution_count": 29,
   "id": "71ca8b0c-1d29-4b4f-8077-b94c0053ed91",
   "metadata": {},
   "outputs": [
    {
     "name": "stdout",
     "output_type": "stream",
     "text": [
      "Ridge Regression — RMSE: 50147459, MAE: 25247862, R²: 0.866\n"
     ]
    }
   ],
   "source": [
    "print(f\"Ridge Regression — RMSE: {rmse_ridge:.0f}, MAE: {mae_ridge:.0f}, R²: {r2_ridge:.3f}\")"
   ]
  },
  {
   "cell_type": "code",
   "execution_count": null,
   "id": "95ea169a-5a50-41a4-b40b-66cb5e44cd6d",
   "metadata": {},
   "outputs": [],
   "source": []
  },
  {
   "cell_type": "markdown",
   "id": "58d04f83-5b72-4a08-b754-f72c54e686c2",
   "metadata": {},
   "source": [
    "## XGBoost Regression"
   ]
  },
  {
   "cell_type": "code",
   "execution_count": 31,
   "id": "caf6b4e7-360c-4dad-8e97-29d356045723",
   "metadata": {},
   "outputs": [],
   "source": [
    "class MeanSquaredError:\n",
    "    def loss(self, y_true, y_pred):\n",
    "        return np.mean((y_true - y_pred) ** 2)\n",
    "    def gradient(self, y_true, y_pred):\n",
    "        return 2 * (y_pred - y_true)\n",
    "    def hessian(self, y_true, y_pred):\n",
    "        return np.full_like(y_true, 2.0)"
   ]
  },
  {
   "cell_type": "code",
   "execution_count": 32,
   "id": "b9329935-93cf-4136-a68a-c3b0f2f7323a",
   "metadata": {},
   "outputs": [],
   "source": [
    "params = {\n",
    "    \"learning_rate\": 0.05,\n",
    "    \"max_depth\": 4,\n",
    "    \"subsample\": 0.8,\n",
    "    \"reg_lambda\": 1.0,\n",
    "    \"gamma\": 0.0,\n",
    "    \"min_child_weight\": 1.0,\n",
    "    \"colsample_bynode\": 1.0,\n",
    "    \"base_score\": 0.5\n",
    "}\n"
   ]
  },
  {
   "cell_type": "code",
   "execution_count": 33,
   "id": "54d4f42a-26d5-4e86-bd3e-76f216dcc2f3",
   "metadata": {},
   "outputs": [
    {
     "name": "stderr",
     "output_type": "stream",
     "text": [
      "D:\\Jupyter Folder\\7th SEM Final Proj\\jupyter\\model_collection.py:166: FutureWarning: Series.__getitem__ treating keys as positions is deprecated. In a future version, integer keys will always be treated as labels (consistent with DataFrame behavior). To access a value by position, use `ser.iloc[pos]`\n",
      "  child = self.left if row[self.split_feature_idx] <= self.threshold else self.right\n"
     ]
    },
    {
     "name": "stdout",
     "output_type": "stream",
     "text": [
      "[0] train loss = 2.4803195900889464e+16\n",
      "[1] train loss = 2.2444424387437664e+16\n",
      "[2] train loss = 2.0317812241430944e+16\n",
      "[3] train loss = 1.84006747497944e+16\n",
      "[4] train loss = 1.6663752633800996e+16\n",
      "[5] train loss = 1.5090256878582052e+16\n",
      "[6] train loss = 1.3672558085131888e+16\n",
      "[7] train loss = 1.2394154326179258e+16\n",
      "[8] train loss = 1.123659255777702e+16\n",
      "[9] train loss = 1.0187985544439922e+16\n",
      "[10] train loss = 9241792511273654.0\n",
      "[11] train loss = 8384485150210890.0\n",
      "[12] train loss = 7608675456068638.0\n",
      "[13] train loss = 6909909149811160.0\n",
      "[14] train loss = 6275994275587313.0\n",
      "[15] train loss = 5702091237225196.0\n",
      "[16] train loss = 5181685222082487.0\n",
      "[17] train loss = 4713575782939263.0\n",
      "[18] train loss = 4288094853346708.0\n",
      "[19] train loss = 3904539842641983.5\n"
     ]
    }
   ],
   "source": [
    "# Initialize model\n",
    "model = XGBoostRegressor(params=params, random_seed=42)\n",
    "\n",
    "# Fit the model\n",
    "model.fit(X_train, y_train, objective=MeanSquaredError(), num_boost_round=20, verbose=True)\n",
    "\n",
    "# Predict\n",
    "y_pred = model.predict(X_test)"
   ]
  },
  {
   "cell_type": "code",
   "execution_count": 34,
   "id": "c179da0a-c110-4f92-a515-526b58be1134",
   "metadata": {},
   "outputs": [
    {
     "name": "stdout",
     "output_type": "stream",
     "text": [
      "RMSE: 65174496.069, MAE: 41103943.079, R²: 0.774\n"
     ]
    },
    {
     "name": "stderr",
     "output_type": "stream",
     "text": [
      "D:\\Anaconda\\Lib\\site-packages\\sklearn\\metrics\\_regression.py:492: FutureWarning: 'squared' is deprecated in version 1.4 and will be removed in 1.6. To calculate the root mean squared error, use the function'root_mean_squared_error'.\n",
      "  warnings.warn(\n"
     ]
    }
   ],
   "source": [
    "rmse_xg = mean_squared_error(y_test, y_pred, squared=False)\n",
    "mae_xg = mean_absolute_error(y_test, y_pred)\n",
    "r2_xg = r2_score(y_test, y_pred)\n",
    "\n",
    "print(f\"RMSE: {rmse_xg:.3f}, MAE: {mae_xg:.3f}, R²: {r2_xg:.3f}\")\n"
   ]
  },
  {
   "cell_type": "markdown",
   "id": "c0d8c0ce-d7ff-4959-810d-edad93c7a190",
   "metadata": {},
   "source": [
    "## Cross Validation"
   ]
  },
  {
   "cell_type": "code",
   "execution_count": 36,
   "id": "01ccfbca-ec77-4131-b150-8b83b0b14eae",
   "metadata": {},
   "outputs": [],
   "source": [
    "from itertools import product\n",
    "\n",
    "param_grid = {\n",
    "    'learning_rate': [0.05, 0.1],  \n",
    "    'max_depth': [4, 5],            \n",
    "    'reg_lambda': [1.0, 1.2],       \n",
    "    'min_child_weight': [2, 3],     \n",
    "}\n",
    "\n",
    "# param_grid = {\n",
    "#     'learning_rate': [0.1, 0.2],  \n",
    "#     'max_depth': [6, 7],            \n",
    "#     'reg_lambda': [1.5, 2],       \n",
    "#     'min_child_weight': [3, 4],     \n",
    "# }\n"
   ]
  },
  {
   "cell_type": "code",
   "execution_count": 37,
   "id": "1738a2ec-cc8b-435d-966f-0bd2d8d931f8",
   "metadata": {},
   "outputs": [],
   "source": [
    "# Create all combinations of parameters\n",
    "grid = list(product(\n",
    "    param_grid['learning_rate'],\n",
    "    param_grid['max_depth'],\n",
    "    param_grid['reg_lambda'],\n",
    "    param_grid['min_child_weight']\n",
    "))\n"
   ]
  },
  {
   "cell_type": "code",
   "execution_count": 38,
   "id": "8a967726-a427-4a36-a0f7-671903b805d9",
   "metadata": {},
   "outputs": [],
   "source": [
    "X_train_split, X_val_split, y_train_split, y_val_split = train_test_split(\n",
    "    X_train, y_train, test_size=0.2, random_state=42\n",
    ")\n"
   ]
  },
  {
   "cell_type": "code",
   "execution_count": 39,
   "id": "df18e286-c290-4d01-bd32-1a1bae35c28f",
   "metadata": {},
   "outputs": [
    {
     "name": "stderr",
     "output_type": "stream",
     "text": [
      "D:\\Jupyter Folder\\7th SEM Final Proj\\jupyter\\model_collection.py:166: FutureWarning: Series.__getitem__ treating keys as positions is deprecated. In a future version, integer keys will always be treated as labels (consistent with DataFrame behavior). To access a value by position, use `ser.iloc[pos]`\n",
      "  child = self.left if row[self.split_feature_idx] <= self.threshold else self.right\n"
     ]
    },
    {
     "name": "stdout",
     "output_type": "stream",
     "text": [
      "lr=0.05, depth=4, lambda=1.0, child=2 => R² = 0.7689\n"
     ]
    },
    {
     "name": "stderr",
     "output_type": "stream",
     "text": [
      "D:\\Jupyter Folder\\7th SEM Final Proj\\jupyter\\model_collection.py:166: FutureWarning: Series.__getitem__ treating keys as positions is deprecated. In a future version, integer keys will always be treated as labels (consistent with DataFrame behavior). To access a value by position, use `ser.iloc[pos]`\n",
      "  child = self.left if row[self.split_feature_idx] <= self.threshold else self.right\n"
     ]
    },
    {
     "name": "stdout",
     "output_type": "stream",
     "text": [
      "lr=0.05, depth=4, lambda=1.0, child=3 => R² = 0.7690\n"
     ]
    },
    {
     "name": "stderr",
     "output_type": "stream",
     "text": [
      "D:\\Jupyter Folder\\7th SEM Final Proj\\jupyter\\model_collection.py:166: FutureWarning: Series.__getitem__ treating keys as positions is deprecated. In a future version, integer keys will always be treated as labels (consistent with DataFrame behavior). To access a value by position, use `ser.iloc[pos]`\n",
      "  child = self.left if row[self.split_feature_idx] <= self.threshold else self.right\n"
     ]
    },
    {
     "name": "stdout",
     "output_type": "stream",
     "text": [
      "lr=0.05, depth=4, lambda=1.2, child=2 => R² = 0.7683\n"
     ]
    },
    {
     "name": "stderr",
     "output_type": "stream",
     "text": [
      "D:\\Jupyter Folder\\7th SEM Final Proj\\jupyter\\model_collection.py:166: FutureWarning: Series.__getitem__ treating keys as positions is deprecated. In a future version, integer keys will always be treated as labels (consistent with DataFrame behavior). To access a value by position, use `ser.iloc[pos]`\n",
      "  child = self.left if row[self.split_feature_idx] <= self.threshold else self.right\n"
     ]
    },
    {
     "name": "stdout",
     "output_type": "stream",
     "text": [
      "lr=0.05, depth=4, lambda=1.2, child=3 => R² = 0.7684\n"
     ]
    },
    {
     "name": "stderr",
     "output_type": "stream",
     "text": [
      "D:\\Jupyter Folder\\7th SEM Final Proj\\jupyter\\model_collection.py:166: FutureWarning: Series.__getitem__ treating keys as positions is deprecated. In a future version, integer keys will always be treated as labels (consistent with DataFrame behavior). To access a value by position, use `ser.iloc[pos]`\n",
      "  child = self.left if row[self.split_feature_idx] <= self.threshold else self.right\n"
     ]
    },
    {
     "name": "stdout",
     "output_type": "stream",
     "text": [
      "lr=0.05, depth=5, lambda=1.0, child=2 => R² = 0.7693\n"
     ]
    },
    {
     "name": "stderr",
     "output_type": "stream",
     "text": [
      "D:\\Jupyter Folder\\7th SEM Final Proj\\jupyter\\model_collection.py:166: FutureWarning: Series.__getitem__ treating keys as positions is deprecated. In a future version, integer keys will always be treated as labels (consistent with DataFrame behavior). To access a value by position, use `ser.iloc[pos]`\n",
      "  child = self.left if row[self.split_feature_idx] <= self.threshold else self.right\n"
     ]
    },
    {
     "name": "stdout",
     "output_type": "stream",
     "text": [
      "lr=0.05, depth=5, lambda=1.0, child=3 => R² = 0.7691\n"
     ]
    },
    {
     "name": "stderr",
     "output_type": "stream",
     "text": [
      "D:\\Jupyter Folder\\7th SEM Final Proj\\jupyter\\model_collection.py:166: FutureWarning: Series.__getitem__ treating keys as positions is deprecated. In a future version, integer keys will always be treated as labels (consistent with DataFrame behavior). To access a value by position, use `ser.iloc[pos]`\n",
      "  child = self.left if row[self.split_feature_idx] <= self.threshold else self.right\n"
     ]
    },
    {
     "name": "stdout",
     "output_type": "stream",
     "text": [
      "lr=0.05, depth=5, lambda=1.2, child=2 => R² = 0.7686\n"
     ]
    },
    {
     "name": "stderr",
     "output_type": "stream",
     "text": [
      "D:\\Jupyter Folder\\7th SEM Final Proj\\jupyter\\model_collection.py:166: FutureWarning: Series.__getitem__ treating keys as positions is deprecated. In a future version, integer keys will always be treated as labels (consistent with DataFrame behavior). To access a value by position, use `ser.iloc[pos]`\n",
      "  child = self.left if row[self.split_feature_idx] <= self.threshold else self.right\n"
     ]
    },
    {
     "name": "stdout",
     "output_type": "stream",
     "text": [
      "lr=0.05, depth=5, lambda=1.2, child=3 => R² = 0.7683\n"
     ]
    },
    {
     "name": "stderr",
     "output_type": "stream",
     "text": [
      "D:\\Jupyter Folder\\7th SEM Final Proj\\jupyter\\model_collection.py:166: FutureWarning: Series.__getitem__ treating keys as positions is deprecated. In a future version, integer keys will always be treated as labels (consistent with DataFrame behavior). To access a value by position, use `ser.iloc[pos]`\n",
      "  child = self.left if row[self.split_feature_idx] <= self.threshold else self.right\n"
     ]
    },
    {
     "name": "stdout",
     "output_type": "stream",
     "text": [
      "lr=0.1, depth=4, lambda=1.0, child=2 => R² = 0.9598\n"
     ]
    },
    {
     "name": "stderr",
     "output_type": "stream",
     "text": [
      "D:\\Jupyter Folder\\7th SEM Final Proj\\jupyter\\model_collection.py:166: FutureWarning: Series.__getitem__ treating keys as positions is deprecated. In a future version, integer keys will always be treated as labels (consistent with DataFrame behavior). To access a value by position, use `ser.iloc[pos]`\n",
      "  child = self.left if row[self.split_feature_idx] <= self.threshold else self.right\n"
     ]
    },
    {
     "name": "stdout",
     "output_type": "stream",
     "text": [
      "lr=0.1, depth=4, lambda=1.0, child=3 => R² = 0.9599\n"
     ]
    },
    {
     "name": "stderr",
     "output_type": "stream",
     "text": [
      "D:\\Jupyter Folder\\7th SEM Final Proj\\jupyter\\model_collection.py:166: FutureWarning: Series.__getitem__ treating keys as positions is deprecated. In a future version, integer keys will always be treated as labels (consistent with DataFrame behavior). To access a value by position, use `ser.iloc[pos]`\n",
      "  child = self.left if row[self.split_feature_idx] <= self.threshold else self.right\n"
     ]
    },
    {
     "name": "stdout",
     "output_type": "stream",
     "text": [
      "lr=0.1, depth=4, lambda=1.2, child=2 => R² = 0.9598\n"
     ]
    },
    {
     "name": "stderr",
     "output_type": "stream",
     "text": [
      "D:\\Jupyter Folder\\7th SEM Final Proj\\jupyter\\model_collection.py:166: FutureWarning: Series.__getitem__ treating keys as positions is deprecated. In a future version, integer keys will always be treated as labels (consistent with DataFrame behavior). To access a value by position, use `ser.iloc[pos]`\n",
      "  child = self.left if row[self.split_feature_idx] <= self.threshold else self.right\n"
     ]
    },
    {
     "name": "stdout",
     "output_type": "stream",
     "text": [
      "lr=0.1, depth=4, lambda=1.2, child=3 => R² = 0.9597\n"
     ]
    },
    {
     "name": "stderr",
     "output_type": "stream",
     "text": [
      "D:\\Jupyter Folder\\7th SEM Final Proj\\jupyter\\model_collection.py:166: FutureWarning: Series.__getitem__ treating keys as positions is deprecated. In a future version, integer keys will always be treated as labels (consistent with DataFrame behavior). To access a value by position, use `ser.iloc[pos]`\n",
      "  child = self.left if row[self.split_feature_idx] <= self.threshold else self.right\n"
     ]
    },
    {
     "name": "stdout",
     "output_type": "stream",
     "text": [
      "lr=0.1, depth=5, lambda=1.0, child=2 => R² = 0.9613\n"
     ]
    },
    {
     "name": "stderr",
     "output_type": "stream",
     "text": [
      "D:\\Jupyter Folder\\7th SEM Final Proj\\jupyter\\model_collection.py:166: FutureWarning: Series.__getitem__ treating keys as positions is deprecated. In a future version, integer keys will always be treated as labels (consistent with DataFrame behavior). To access a value by position, use `ser.iloc[pos]`\n",
      "  child = self.left if row[self.split_feature_idx] <= self.threshold else self.right\n"
     ]
    },
    {
     "name": "stdout",
     "output_type": "stream",
     "text": [
      "lr=0.1, depth=5, lambda=1.0, child=3 => R² = 0.9612\n"
     ]
    },
    {
     "name": "stderr",
     "output_type": "stream",
     "text": [
      "D:\\Jupyter Folder\\7th SEM Final Proj\\jupyter\\model_collection.py:166: FutureWarning: Series.__getitem__ treating keys as positions is deprecated. In a future version, integer keys will always be treated as labels (consistent with DataFrame behavior). To access a value by position, use `ser.iloc[pos]`\n",
      "  child = self.left if row[self.split_feature_idx] <= self.threshold else self.right\n"
     ]
    },
    {
     "name": "stdout",
     "output_type": "stream",
     "text": [
      "lr=0.1, depth=5, lambda=1.2, child=2 => R² = 0.9611\n"
     ]
    },
    {
     "name": "stderr",
     "output_type": "stream",
     "text": [
      "D:\\Jupyter Folder\\7th SEM Final Proj\\jupyter\\model_collection.py:166: FutureWarning: Series.__getitem__ treating keys as positions is deprecated. In a future version, integer keys will always be treated as labels (consistent with DataFrame behavior). To access a value by position, use `ser.iloc[pos]`\n",
      "  child = self.left if row[self.split_feature_idx] <= self.threshold else self.right\n"
     ]
    },
    {
     "name": "stdout",
     "output_type": "stream",
     "text": [
      "lr=0.1, depth=5, lambda=1.2, child=3 => R² = 0.9613\n"
     ]
    }
   ],
   "source": [
    "best_r2 = float('-inf')\n",
    "best_params = None\n",
    "best_feature_importance = None\n",
    "\n",
    "for lr, depth, reg, child_weight in grid:\n",
    "    params = {\n",
    "        'learning_rate': lr,\n",
    "        'max_depth': depth,\n",
    "        'reg_lambda': reg,\n",
    "        'min_child_weight': child_weight,\n",
    "        'colsample_bynode': 1.0,\n",
    "        'gamma': 0.0,\n",
    "        'subsample': 1.0,\n",
    "        'base_score': 0.5\n",
    "    }\n",
    "\n",
    "    model =  XGBoostRegressor(params, random_seed=42)\n",
    "    model.fit(X_train_split, y_train_split, objective=MeanSquaredError(), num_boost_round=20)\n",
    "    y_val_pred = model.predict(X_val_split)\n",
    "\n",
    "    r2 = r2_score(y_val_split, y_val_pred)\n",
    "    print(f\"lr={lr}, depth={depth}, lambda={reg}, child={child_weight} => R² = {r2:.4f}\")\n",
    "\n",
    "    if r2 > best_r2:\n",
    "        best_r2 = r2\n",
    "        best_params = params.copy()\n",
    "        best_feature_importance = model.feature_importance_.copy()\n"
   ]
  },
  {
   "cell_type": "code",
   "execution_count": null,
   "id": "b0a8f581-ca28-43d1-ac9c-29133e14a657",
   "metadata": {},
   "outputs": [],
   "source": []
  },
  {
   "cell_type": "code",
   "execution_count": 40,
   "id": "cd6a4691-e109-4a1d-a791-eeb1d62f1b3e",
   "metadata": {},
   "outputs": [
    {
     "name": "stderr",
     "output_type": "stream",
     "text": [
      "D:\\Jupyter Folder\\7th SEM Final Proj\\jupyter\\model_collection.py:166: FutureWarning: Series.__getitem__ treating keys as positions is deprecated. In a future version, integer keys will always be treated as labels (consistent with DataFrame behavior). To access a value by position, use `ser.iloc[pos]`\n",
      "  child = self.left if row[self.split_feature_idx] <= self.threshold else self.right\n"
     ]
    },
    {
     "name": "stdout",
     "output_type": "stream",
     "text": [
      "\n",
      "Final Test Results:\n",
      "Best Params: {'learning_rate': 0.1, 'max_depth': 5, 'reg_lambda': 1.2, 'min_child_weight': 3, 'colsample_bynode': 1.0, 'gamma': 0.0, 'subsample': 1.0, 'base_score': 0.5}\n",
      "XGBoost Regressor - RMSE: 25178048.738, MAE: 17253162.830, R²: 0.966\n"
     ]
    },
    {
     "name": "stderr",
     "output_type": "stream",
     "text": [
      "D:\\Anaconda\\Lib\\site-packages\\sklearn\\metrics\\_regression.py:492: FutureWarning: 'squared' is deprecated in version 1.4 and will be removed in 1.6. To calculate the root mean squared error, use the function'root_mean_squared_error'.\n",
      "  warnings.warn(\n"
     ]
    }
   ],
   "source": [
    "# Train best model on full training set\n",
    "final_model = XGBoostRegressor(params=best_params, random_seed=42)\n",
    "final_model.fit(X_train, y_train, objective=MeanSquaredError(), num_boost_round=20)\n",
    "\n",
    "# Predict on test set\n",
    "y_pred = final_model.predict(X_test)\n",
    "\n",
    "# Evaluate\n",
    "from sklearn.metrics import mean_squared_error, mean_absolute_error\n",
    "\n",
    "rmse_xgb = mean_squared_error(y_test, y_pred, squared=False)\n",
    "mae_xgb = mean_absolute_error(y_test, y_pred)\n",
    "r2_xgb = r2_score(y_test, y_pred)\n",
    "\n",
    "print(\"\\nFinal Test Results:\")\n",
    "print(f\"Best Params: {best_params}\")\n",
    "print(f\"XGBoost Regressor - RMSE: {rmse_xgb:.3f}, MAE: {mae_xgb:.3f}, R²: {r2_xgb:.3f}\")\n"
   ]
  },
  {
   "cell_type": "code",
   "execution_count": 41,
   "id": "33d6b9a9-df78-4a03-84ec-279a4caffbbf",
   "metadata": {},
   "outputs": [],
   "source": [
    "results[\"XGBoost (Tuned):\"] = [rmse_xgb, mae_xgb, r2_xgb]"
   ]
  },
  {
   "cell_type": "code",
   "execution_count": 42,
   "id": "13edca42-3516-43b8-afbf-d9bcac0a1fd5",
   "metadata": {},
   "outputs": [
    {
     "name": "stdout",
     "output_type": "stream",
     "text": [
      "\n",
      "Model Comparison:\n",
      "                           RMSE           MAE     R²\n",
      "Linear Regression  5.009283e+07  2.532045e+07  0.867\n",
      "Ridge Regression   5.014746e+07  2.524786e+07  0.866\n",
      "XGBoost (Tuned):   2.517805e+07  1.725316e+07  0.966\n"
     ]
    }
   ],
   "source": [
    "df_results = pd.DataFrame(results, index=[\"RMSE\", \"MAE\", \"R²\"]).T.round(3)\n",
    "\n",
    "print(\"\\nModel Comparison:\")\n",
    "print(df_results)"
   ]
  },
  {
   "cell_type": "code",
   "execution_count": 43,
   "id": "9b3d2bc3-f57a-4b0b-a009-41f280471949",
   "metadata": {},
   "outputs": [
    {
     "name": "stdout",
     "output_type": "stream",
     "text": [
      "\n",
      "Top Features by Importance (Total Gain):\n",
      "1. Area                      : 5031605421459315359744.0000\n",
      "2. Bathroom                  : 418459816166330335232.0000\n",
      "3. Bedroom                   : 203675922946572419072.0000\n",
      "4. City_Kathmandu            : 22188303994556739584.0000\n",
      "5. Amenities_Count           : 13531976502862102528.0000\n",
      "6. City_Chitwan              : 12350879330081271808.0000\n",
      "7. City_Pokhara              : 1943943761839124992.0000\n",
      "8. City_Lalitpur             : 1803584047500391936.0000\n",
      "9. Property_Age              : 1678998986161899264.0000\n",
      "10. Neighborhood_encoded      : 1069275006463179904.0000\n",
      "11. Road_Width                : 954748393351346432.0000\n",
      "12. Floors                    : 352856079705731008.0000\n",
      "13. Area_x_RoadWidth          : 184188790098869696.0000\n",
      "14. Road_Type_Soil Stabilized : 36154507302892048.0000\n",
      "15. City_Bhaktapur            : 27182091177963008.0000\n",
      "16. Road_Type_Gravelled       : 7754771057348688.0000\n",
      "17. Road_Type_Paved           : 2367309744477624.0000\n"
     ]
    }
   ],
   "source": [
    "# Ensure feature names are known\n",
    "feature_names = X_train.columns  # Adjust if needed\n",
    "\n",
    "# Convert importance dict (index-based) to feature name mapping\n",
    "importance_named = {\n",
    "    feature_names[k]: v for k, v in best_feature_importance.items()\n",
    "}\n",
    "\n",
    "# Sort by importance (highest first)\n",
    "sorted_importance = sorted(importance_named.items(), key=lambda item: item[1], reverse=True)\n",
    "\n",
    "# Print\n",
    "print(\"\\nTop Features by Importance (Total Gain):\")\n",
    "for i, (feature, score) in enumerate(sorted_importance, 1):\n",
    "    print(f\"{i}. {feature:<25} : {score:.4f}\")\n"
   ]
  },
  {
   "cell_type": "code",
   "execution_count": 44,
   "id": "26b6fcd8-eded-4ac2-88e1-175faddb0582",
   "metadata": {},
   "outputs": [
    {
     "data": {
      "text/plain": [
       "Index(['Bedroom', 'Bathroom', 'Floors', 'Area', 'Road_Width',\n",
       "       'Amenities_Count', 'Property_Age', 'City_Bhaktapur', 'City_Chitwan',\n",
       "       'City_Dharan', 'City_Jhapa', 'City_Kathmandu', 'City_Lalitpur',\n",
       "       'City_Nawalparasi', 'City_Pokhara', 'Road_Type_Gravelled',\n",
       "       'Road_Type_Paved', 'Road_Type_Soil Stabilized', 'Neighborhood_encoded',\n",
       "       'Log_Area', 'Area_x_RoadWidth'],\n",
       "      dtype='object')"
      ]
     },
     "execution_count": 44,
     "metadata": {},
     "output_type": "execute_result"
    }
   ],
   "source": [
    "X_train.columns\n"
   ]
  },
  {
   "cell_type": "code",
   "execution_count": 45,
   "id": "7cb5e529-c1c6-4bc9-83cb-3494c7edb6c2",
   "metadata": {},
   "outputs": [
    {
     "name": "stdout",
     "output_type": "stream",
     "text": [
      "Feature 3: 88.00%\n",
      "Feature 1: 7.23%\n",
      "Feature 0: 3.66%\n",
      "Feature 11: 0.43%\n",
      "Feature 5: 0.27%\n",
      "Feature 8: 0.26%\n",
      "Feature 12: 0.05%\n",
      "Feature 14: 0.03%\n",
      "Feature 4: 0.02%\n",
      "Feature 6: 0.02%\n",
      "Feature 18: 0.02%\n",
      "Feature 2: 0.00%\n",
      "Feature 7: 0.00%\n",
      "Feature 20: 0.00%\n",
      "Feature 15: 0.00%\n"
     ]
    }
   ],
   "source": [
    "importance = final_model.feature_importance_\n",
    "\n",
    "# Total sum of importance\n",
    "total = sum(importance.values())\n",
    "\n",
    "# Print normalized percentages with feature indices\n",
    "for idx, score in sorted(importance.items(), key=lambda x: x[1], reverse=True):\n",
    "    percent = (score / total) * 100\n",
    "    print(f\"Feature {idx}: {percent:.2f}%\")\n"
   ]
  },
  {
   "cell_type": "markdown",
   "id": "89082388-7255-48c1-9e2c-b0a43005c561",
   "metadata": {},
   "source": [
    "# **Saving Model**"
   ]
  },
  {
   "cell_type": "code",
   "execution_count": 47,
   "id": "9d8fa5af-5349-4f63-a96b-70b61b891314",
   "metadata": {},
   "outputs": [
    {
     "name": "stdout",
     "output_type": "stream",
     "text": [
      "Model, parameters, and feature importance saved as house_price.pkl.\n"
     ]
    }
   ],
   "source": [
    "import pickle\n",
    "\n",
    "# Bundle everything into a dictionary\n",
    "model_package = {\n",
    "    \"model\": final_model,\n",
    "    \"best_params\": best_params,\n",
    "    \"feature_importance\": best_feature_importance,\n",
    "    \"feature_names\": list(X_train.columns)\n",
    "}\n",
    "\n",
    "# Save to file with your desired name\n",
    "with open(\"house_price.pkl\", \"wb\") as f:\n",
    "    pickle.dump(model_package, f)\n",
    "\n",
    "print(\"Model, parameters, and feature importance saved as house_price.pkl.\")\n"
   ]
  },
  {
   "cell_type": "code",
   "execution_count": null,
   "id": "e00d7420-748d-4c24-a4ef-d88a2269a83f",
   "metadata": {},
   "outputs": [],
   "source": []
  }
 ],
 "metadata": {
  "kernelspec": {
   "display_name": "Python [conda env:base] *",
   "language": "python",
   "name": "conda-base-py"
  },
  "language_info": {
   "codemirror_mode": {
    "name": "ipython",
    "version": 3
   },
   "file_extension": ".py",
   "mimetype": "text/x-python",
   "name": "python",
   "nbconvert_exporter": "python",
   "pygments_lexer": "ipython3",
   "version": "3.12.3"
  }
 },
 "nbformat": 4,
 "nbformat_minor": 5
}
