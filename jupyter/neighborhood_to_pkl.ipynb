{
 "cells": [
  {
   "cell_type": "code",
   "execution_count": 1,
   "id": "b0d6227d-928c-4ac2-b824-74d474e37423",
   "metadata": {},
   "outputs": [],
   "source": [
    "import pandas as pd\n",
    "import pickle"
   ]
  },
  {
   "cell_type": "code",
   "execution_count": 2,
   "id": "10c2b9d6-9e8b-4a73-a6a7-0690c6f504fa",
   "metadata": {},
   "outputs": [],
   "source": [
    "data = pd.read_csv(\"cleaned_data.csv\")"
   ]
  },
  {
   "cell_type": "code",
   "execution_count": 3,
   "id": "b146d678-2ba2-4e81-939e-97b423079594",
   "metadata": {},
   "outputs": [],
   "source": [
    "neighborhood_freq = data['Neighborhood'].value_counts(normalize=True).to_dict()"
   ]
  },
  {
   "cell_type": "code",
   "execution_count": 4,
   "id": "c81fcccf-05b9-4362-b4e6-53d910bf0109",
   "metadata": {},
   "outputs": [],
   "source": [
    "# Save map \n",
    "with open(\"neighborhood_map.pkl\", \"wb\") as f: pickle.dump(neighborhood_freq, f)"
   ]
  },
  {
   "cell_type": "code",
   "execution_count": null,
   "id": "0d6a3027-c2c5-4ff3-8067-fd91931413c5",
   "metadata": {},
   "outputs": [],
   "source": []
  }
 ],
 "metadata": {
  "kernelspec": {
   "display_name": "Python [conda env:base] *",
   "language": "python",
   "name": "conda-base-py"
  },
  "language_info": {
   "codemirror_mode": {
    "name": "ipython",
    "version": 3
   },
   "file_extension": ".py",
   "mimetype": "text/x-python",
   "name": "python",
   "nbconvert_exporter": "python",
   "pygments_lexer": "ipython3",
   "version": "3.12.3"
  }
 },
 "nbformat": 4,
 "nbformat_minor": 5
}
