{
 "cells": [
  {
   "cell_type": "code",
   "execution_count": 186,
   "id": "4184e7fc-0b4c-4672-aacd-8c30b59734ef",
   "metadata": {},
   "outputs": [],
   "source": [
    "import pandas as pd\n",
    "import numpy as np\n",
    "import random\n",
    "import re\n",
    "import matplotlib.pyplot as plt\n",
    "import seaborn as sns"
   ]
  },
  {
   "cell_type": "code",
   "execution_count": 187,
   "id": "913be62f-65e2-4c98-9302-bf3a9bccc496",
   "metadata": {},
   "outputs": [],
   "source": [
    "data = pd.read_csv(\"2020-4-27.csv\")"
   ]
  },
  {
   "cell_type": "code",
   "execution_count": 188,
   "id": "9de27f06-e848-4646-8167-2125c89df19b",
   "metadata": {},
   "outputs": [
    {
     "data": {
      "text/html": [
       "<div>\n",
       "<style scoped>\n",
       "    .dataframe tbody tr th:only-of-type {\n",
       "        vertical-align: middle;\n",
       "    }\n",
       "\n",
       "    .dataframe tbody tr th {\n",
       "        vertical-align: top;\n",
       "    }\n",
       "\n",
       "    .dataframe thead th {\n",
       "        text-align: right;\n",
       "    }\n",
       "</style>\n",
       "<table border=\"1\" class=\"dataframe\">\n",
       "  <thead>\n",
       "    <tr style=\"text-align: right;\">\n",
       "      <th></th>\n",
       "      <th>Title</th>\n",
       "      <th>Address</th>\n",
       "      <th>City</th>\n",
       "      <th>Price</th>\n",
       "      <th>Bedroom</th>\n",
       "      <th>Bathroom</th>\n",
       "      <th>Floors</th>\n",
       "      <th>Parking</th>\n",
       "      <th>Face</th>\n",
       "      <th>Year</th>\n",
       "      <th>Views</th>\n",
       "      <th>Area</th>\n",
       "      <th>Road</th>\n",
       "      <th>Road Width</th>\n",
       "      <th>Road Type</th>\n",
       "      <th>Build Area</th>\n",
       "      <th>Posted</th>\n",
       "      <th>Amenities</th>\n",
       "    </tr>\n",
       "  </thead>\n",
       "  <tbody>\n",
       "    <tr>\n",
       "      <th>0</th>\n",
       "      <td>Flat System House On Sale At Budhanikantha : H...</td>\n",
       "      <td>Budhanikantha, Budhanilkantha, Kathmandu</td>\n",
       "      <td>Kathmandu</td>\n",
       "      <td>90000000</td>\n",
       "      <td>6</td>\n",
       "      <td>3</td>\n",
       "      <td>2.0</td>\n",
       "      <td>10</td>\n",
       "      <td>West</td>\n",
       "      <td>2073.0</td>\n",
       "      <td>17</td>\n",
       "      <td>1-0-0-0 Aana</td>\n",
       "      <td>20 Feet / Blacktopped</td>\n",
       "      <td>20 Feet</td>\n",
       "      <td>Blacktopped</td>\n",
       "      <td>18-0-0-0 Aana</td>\n",
       "      <td>11 hours ago</td>\n",
       "      <td>['Parking', 'Lawn', 'Garage', 'Frontyard', 'Fe...</td>\n",
       "    </tr>\n",
       "    <tr>\n",
       "      <th>1</th>\n",
       "      <td>21 Aana Beautiful House : House For Sale In Bu...</td>\n",
       "      <td>Pasikot, Budhanilkantha, Kathmandu</td>\n",
       "      <td>Kathmandu</td>\n",
       "      <td>80000000</td>\n",
       "      <td>5</td>\n",
       "      <td>3</td>\n",
       "      <td>2.0</td>\n",
       "      <td>9</td>\n",
       "      <td>East</td>\n",
       "      <td>2073.0</td>\n",
       "      <td>26</td>\n",
       "      <td>0-21-0-0 Aana</td>\n",
       "      <td>20 Feet / Blacktopped</td>\n",
       "      <td>20 Feet</td>\n",
       "      <td>Blacktopped</td>\n",
       "      <td>0-14-0-0 Aana</td>\n",
       "      <td>12 hours ago</td>\n",
       "      <td>['Parking', 'Garage', 'Fencing', 'Frontyard', ...</td>\n",
       "    </tr>\n",
       "    <tr>\n",
       "      <th>2</th>\n",
       "      <td>Beautiful To Floor House : House For Sale In D...</td>\n",
       "      <td>Dhapasi, Dhapasi, Kathmandu</td>\n",
       "      <td>Kathmandu</td>\n",
       "      <td>70000000</td>\n",
       "      <td>5</td>\n",
       "      <td>3</td>\n",
       "      <td>2.0</td>\n",
       "      <td>12</td>\n",
       "      <td>East</td>\n",
       "      <td>2071.0</td>\n",
       "      <td>154</td>\n",
       "      <td>1-1-0-0 Aana</td>\n",
       "      <td>20 Feet / Blacktopped</td>\n",
       "      <td>20 Feet</td>\n",
       "      <td>Blacktopped</td>\n",
       "      <td>10-1-0-0 Aana</td>\n",
       "      <td>2 days ago</td>\n",
       "      <td>['Parking', 'Lawn', 'Garage', 'Frontyard', 'Fe...</td>\n",
       "    </tr>\n",
       "    <tr>\n",
       "      <th>3</th>\n",
       "      <td>Modern Architecture Bungalow House : House For...</td>\n",
       "      <td>baluwatar, Baluwatar, Kathmandu</td>\n",
       "      <td>Kathmandu</td>\n",
       "      <td>130000000</td>\n",
       "      <td>6</td>\n",
       "      <td>4</td>\n",
       "      <td>3.0</td>\n",
       "      <td>9</td>\n",
       "      <td>West</td>\n",
       "      <td>2017.0</td>\n",
       "      <td>17</td>\n",
       "      <td>0-10-1-0 Aana</td>\n",
       "      <td>20 Feet / Blacktopped</td>\n",
       "      <td>20 Feet</td>\n",
       "      <td>Blacktopped</td>\n",
       "      <td>0-7-1-0 Aana</td>\n",
       "      <td>1 day ago</td>\n",
       "      <td>['Parking', 'Lawn', 'Garage', 'Frontyard', 'Fe...</td>\n",
       "    </tr>\n",
       "    <tr>\n",
       "      <th>4</th>\n",
       "      <td>Modern Bungalow House : House For Sale In Golf...</td>\n",
       "      <td>Golfutar, Golfutar, Kathmandu</td>\n",
       "      <td>Kathmandu</td>\n",
       "      <td>100000000</td>\n",
       "      <td>6</td>\n",
       "      <td>3</td>\n",
       "      <td>2.0</td>\n",
       "      <td>10</td>\n",
       "      <td>East</td>\n",
       "      <td>2070.0</td>\n",
       "      <td>59</td>\n",
       "      <td>0-19-2-0 Aana</td>\n",
       "      <td>20 Feet / Blacktopped</td>\n",
       "      <td>20 Feet</td>\n",
       "      <td>Blacktopped</td>\n",
       "      <td>0-14-2-0 Aana</td>\n",
       "      <td>2 days ago</td>\n",
       "      <td>['Parking', 'Lawn', 'Garage', 'Balcony', 'Back...</td>\n",
       "    </tr>\n",
       "  </tbody>\n",
       "</table>\n",
       "</div>"
      ],
      "text/plain": [
       "                                               Title  \\\n",
       "0  Flat System House On Sale At Budhanikantha : H...   \n",
       "1  21 Aana Beautiful House : House For Sale In Bu...   \n",
       "2  Beautiful To Floor House : House For Sale In D...   \n",
       "3  Modern Architecture Bungalow House : House For...   \n",
       "4  Modern Bungalow House : House For Sale In Golf...   \n",
       "\n",
       "                                    Address       City      Price  Bedroom  \\\n",
       "0  Budhanikantha, Budhanilkantha, Kathmandu  Kathmandu   90000000        6   \n",
       "1        Pasikot, Budhanilkantha, Kathmandu  Kathmandu   80000000        5   \n",
       "2               Dhapasi, Dhapasi, Kathmandu  Kathmandu   70000000        5   \n",
       "3           baluwatar, Baluwatar, Kathmandu  Kathmandu  130000000        6   \n",
       "4             Golfutar, Golfutar, Kathmandu  Kathmandu  100000000        6   \n",
       "\n",
       "   Bathroom  Floors  Parking  Face    Year Views           Area  \\\n",
       "0         3     2.0       10  West  2073.0    17   1-0-0-0 Aana   \n",
       "1         3     2.0        9  East  2073.0    26  0-21-0-0 Aana   \n",
       "2         3     2.0       12  East  2071.0   154   1-1-0-0 Aana   \n",
       "3         4     3.0        9  West  2017.0    17  0-10-1-0 Aana   \n",
       "4         3     2.0       10  East  2070.0    59  0-19-2-0 Aana   \n",
       "\n",
       "                    Road Road Width     Road Type     Build Area  \\\n",
       "0  20 Feet / Blacktopped   20 Feet    Blacktopped  18-0-0-0 Aana   \n",
       "1  20 Feet / Blacktopped   20 Feet    Blacktopped  0-14-0-0 Aana   \n",
       "2  20 Feet / Blacktopped   20 Feet    Blacktopped  10-1-0-0 Aana   \n",
       "3  20 Feet / Blacktopped   20 Feet    Blacktopped   0-7-1-0 Aana   \n",
       "4  20 Feet / Blacktopped   20 Feet    Blacktopped  0-14-2-0 Aana   \n",
       "\n",
       "         Posted                                          Amenities  \n",
       "0  11 hours ago  ['Parking', 'Lawn', 'Garage', 'Frontyard', 'Fe...  \n",
       "1  12 hours ago  ['Parking', 'Garage', 'Fencing', 'Frontyard', ...  \n",
       "2    2 days ago  ['Parking', 'Lawn', 'Garage', 'Frontyard', 'Fe...  \n",
       "3     1 day ago  ['Parking', 'Lawn', 'Garage', 'Frontyard', 'Fe...  \n",
       "4    2 days ago  ['Parking', 'Lawn', 'Garage', 'Balcony', 'Back...  "
      ]
     },
     "execution_count": 188,
     "metadata": {},
     "output_type": "execute_result"
    }
   ],
   "source": [
    "data.head()"
   ]
  },
  {
   "cell_type": "code",
   "execution_count": 189,
   "id": "e51616e5-cc4c-497c-a33a-d2fc44ee5e9a",
   "metadata": {},
   "outputs": [
    {
     "data": {
      "text/html": [
       "<div>\n",
       "<style scoped>\n",
       "    .dataframe tbody tr th:only-of-type {\n",
       "        vertical-align: middle;\n",
       "    }\n",
       "\n",
       "    .dataframe tbody tr th {\n",
       "        vertical-align: top;\n",
       "    }\n",
       "\n",
       "    .dataframe thead th {\n",
       "        text-align: right;\n",
       "    }\n",
       "</style>\n",
       "<table border=\"1\" class=\"dataframe\">\n",
       "  <thead>\n",
       "    <tr style=\"text-align: right;\">\n",
       "      <th></th>\n",
       "      <th>Title</th>\n",
       "      <th>Address</th>\n",
       "      <th>City</th>\n",
       "      <th>Price</th>\n",
       "      <th>Bedroom</th>\n",
       "      <th>Bathroom</th>\n",
       "      <th>Floors</th>\n",
       "      <th>Parking</th>\n",
       "      <th>Face</th>\n",
       "      <th>Year</th>\n",
       "      <th>Views</th>\n",
       "      <th>Area</th>\n",
       "      <th>Road</th>\n",
       "      <th>Road Width</th>\n",
       "      <th>Road Type</th>\n",
       "      <th>Build Area</th>\n",
       "      <th>Posted</th>\n",
       "      <th>Amenities</th>\n",
       "    </tr>\n",
       "  </thead>\n",
       "  <tbody>\n",
       "    <tr>\n",
       "      <th>2206</th>\n",
       "      <td>House For Rent In Chapali, Kathmandu</td>\n",
       "      <td>Bhangal, Chapali, Kathmandu</td>\n",
       "      <td>Kathmandu</td>\n",
       "      <td>500000</td>\n",
       "      <td>5</td>\n",
       "      <td>5</td>\n",
       "      <td>3.0</td>\n",
       "      <td>5</td>\n",
       "      <td>North East</td>\n",
       "      <td>NaN</td>\n",
       "      <td>3.1K</td>\n",
       "      <td>1 Ropani</td>\n",
       "      <td>16 Feet</td>\n",
       "      <td>16 Feet</td>\n",
       "      <td>NaN</td>\n",
       "      <td>N/A Sq. Feet</td>\n",
       "      <td>1 year ago</td>\n",
       "      <td>['Balcony', 'Frontyard', 'Garden', 'Drainage',...</td>\n",
       "    </tr>\n",
       "    <tr>\n",
       "      <th>2207</th>\n",
       "      <td>House For Sale In Sitapaila, Kathmandu</td>\n",
       "      <td>Nagarjun, Sitapaila, Kathmandu</td>\n",
       "      <td>Kathmandu</td>\n",
       "      <td>12000000</td>\n",
       "      <td>4</td>\n",
       "      <td>2</td>\n",
       "      <td>2.0</td>\n",
       "      <td>1</td>\n",
       "      <td>North East</td>\n",
       "      <td>NaN</td>\n",
       "      <td>1.4K</td>\n",
       "      <td>2.5 Aana</td>\n",
       "      <td>13 Feet</td>\n",
       "      <td>13 Feet</td>\n",
       "      <td>NaN</td>\n",
       "      <td>N/A Sq. Feet</td>\n",
       "      <td>1 year ago</td>\n",
       "      <td>['Balcony', 'Frontyard', 'Drainage', 'Water Su...</td>\n",
       "    </tr>\n",
       "    <tr>\n",
       "      <th>2208</th>\n",
       "      <td>House For Sale In Budhanilkantha, Kathmandu</td>\n",
       "      <td>Deuja Chowk, Budhanilkantha, Kathmandu</td>\n",
       "      <td>Kathmandu</td>\n",
       "      <td>27000000</td>\n",
       "      <td>5</td>\n",
       "      <td>3</td>\n",
       "      <td>2.0</td>\n",
       "      <td>1</td>\n",
       "      <td>East</td>\n",
       "      <td>2071.0</td>\n",
       "      <td>1.5K</td>\n",
       "      <td>8 Aana</td>\n",
       "      <td>12 Feet</td>\n",
       "      <td>12 Feet</td>\n",
       "      <td>NaN</td>\n",
       "      <td>N/A Sq. Feet</td>\n",
       "      <td>1 year ago</td>\n",
       "      <td>['Balcony', 'Frontyard', 'Drainage', 'Water Su...</td>\n",
       "    </tr>\n",
       "    <tr>\n",
       "      <th>2209</th>\n",
       "      <td>House For Rent In Baneshwor, Kathmandu</td>\n",
       "      <td>Bhimsengola, Baneshwor, Kathmandu</td>\n",
       "      <td>Kathmandu</td>\n",
       "      <td>300000</td>\n",
       "      <td>9</td>\n",
       "      <td>3</td>\n",
       "      <td>2.0</td>\n",
       "      <td>4</td>\n",
       "      <td>North</td>\n",
       "      <td>NaN</td>\n",
       "      <td>2.5K</td>\n",
       "      <td>51 Aana</td>\n",
       "      <td>13 Feet</td>\n",
       "      <td>13 Feet</td>\n",
       "      <td>NaN</td>\n",
       "      <td>N/A Sq. Feet</td>\n",
       "      <td>1 year ago</td>\n",
       "      <td>['Drainage', 'Water Supply', 'Garden', 'Fronty...</td>\n",
       "    </tr>\n",
       "    <tr>\n",
       "      <th>2210</th>\n",
       "      <td>House For Sale In Baluwatar, Kathmandu</td>\n",
       "      <td>Gocha marg, Baluwatar, Kathmandu</td>\n",
       "      <td>Kathmandu</td>\n",
       "      <td>72500000</td>\n",
       "      <td>5</td>\n",
       "      <td>2</td>\n",
       "      <td>3.0</td>\n",
       "      <td>5</td>\n",
       "      <td>East</td>\n",
       "      <td>NaN</td>\n",
       "      <td>19.6K</td>\n",
       "      <td>13 Aana</td>\n",
       "      <td>12 Feet</td>\n",
       "      <td>12 Feet</td>\n",
       "      <td>NaN</td>\n",
       "      <td>13 Aana</td>\n",
       "      <td>1 year ago</td>\n",
       "      <td>['Garage', 'Balcony', 'Frontyard', 'Drainage',...</td>\n",
       "    </tr>\n",
       "  </tbody>\n",
       "</table>\n",
       "</div>"
      ],
      "text/plain": [
       "                                            Title  \\\n",
       "2206         House For Rent In Chapali, Kathmandu   \n",
       "2207       House For Sale In Sitapaila, Kathmandu   \n",
       "2208  House For Sale In Budhanilkantha, Kathmandu   \n",
       "2209       House For Rent In Baneshwor, Kathmandu   \n",
       "2210       House For Sale In Baluwatar, Kathmandu   \n",
       "\n",
       "                                     Address       City     Price  Bedroom  \\\n",
       "2206             Bhangal, Chapali, Kathmandu  Kathmandu    500000        5   \n",
       "2207          Nagarjun, Sitapaila, Kathmandu  Kathmandu  12000000        4   \n",
       "2208  Deuja Chowk, Budhanilkantha, Kathmandu  Kathmandu  27000000        5   \n",
       "2209       Bhimsengola, Baneshwor, Kathmandu  Kathmandu    300000        9   \n",
       "2210        Gocha marg, Baluwatar, Kathmandu  Kathmandu  72500000        5   \n",
       "\n",
       "      Bathroom  Floors  Parking        Face    Year  Views      Area     Road  \\\n",
       "2206         5     3.0        5  North East     NaN   3.1K  1 Ropani  16 Feet   \n",
       "2207         2     2.0        1  North East     NaN   1.4K  2.5 Aana  13 Feet   \n",
       "2208         3     2.0        1        East  2071.0   1.5K    8 Aana  12 Feet   \n",
       "2209         3     2.0        4       North     NaN   2.5K   51 Aana  13 Feet   \n",
       "2210         2     3.0        5        East     NaN  19.6K   13 Aana  12 Feet   \n",
       "\n",
       "     Road Width Road Type    Build Area      Posted  \\\n",
       "2206    16 Feet       NaN  N/A Sq. Feet  1 year ago   \n",
       "2207    13 Feet       NaN  N/A Sq. Feet  1 year ago   \n",
       "2208    12 Feet       NaN  N/A Sq. Feet  1 year ago   \n",
       "2209    13 Feet       NaN  N/A Sq. Feet  1 year ago   \n",
       "2210    12 Feet       NaN       13 Aana  1 year ago   \n",
       "\n",
       "                                              Amenities  \n",
       "2206  ['Balcony', 'Frontyard', 'Garden', 'Drainage',...  \n",
       "2207  ['Balcony', 'Frontyard', 'Drainage', 'Water Su...  \n",
       "2208  ['Balcony', 'Frontyard', 'Drainage', 'Water Su...  \n",
       "2209  ['Drainage', 'Water Supply', 'Garden', 'Fronty...  \n",
       "2210  ['Garage', 'Balcony', 'Frontyard', 'Drainage',...  "
      ]
     },
     "execution_count": 189,
     "metadata": {},
     "output_type": "execute_result"
    }
   ],
   "source": [
    "data.tail()"
   ]
  },
  {
   "cell_type": "code",
   "execution_count": 190,
   "id": "432645e0-0565-4425-8c32-e92e613e4b79",
   "metadata": {},
   "outputs": [
    {
     "name": "stdout",
     "output_type": "stream",
     "text": [
      "<class 'pandas.core.frame.DataFrame'>\n",
      "RangeIndex: 2211 entries, 0 to 2210\n",
      "Data columns (total 18 columns):\n",
      " #   Column      Non-Null Count  Dtype  \n",
      "---  ------      --------------  -----  \n",
      " 0   Title       2211 non-null   object \n",
      " 1   Address     2211 non-null   object \n",
      " 2   City        2211 non-null   object \n",
      " 3   Price       2211 non-null   int64  \n",
      " 4   Bedroom     2211 non-null   int64  \n",
      " 5   Bathroom    2211 non-null   int64  \n",
      " 6   Floors      1039 non-null   float64\n",
      " 7   Parking     2211 non-null   int64  \n",
      " 8   Face        2211 non-null   object \n",
      " 9   Year        582 non-null    float64\n",
      " 10  Views       2211 non-null   object \n",
      " 11  Area        2211 non-null   object \n",
      " 12  Road        2211 non-null   object \n",
      " 13  Road Width  2211 non-null   object \n",
      " 14  Road Type   1426 non-null   object \n",
      " 15  Build Area  2211 non-null   object \n",
      " 16  Posted      2211 non-null   object \n",
      " 17  Amenities   2211 non-null   object \n",
      "dtypes: float64(2), int64(4), object(12)\n",
      "memory usage: 311.1+ KB\n"
     ]
    }
   ],
   "source": [
    "data.info()"
   ]
  },
  {
   "cell_type": "code",
   "execution_count": 191,
   "id": "9f6d1b82-885d-4cea-a9be-4d462f4f2669",
   "metadata": {},
   "outputs": [],
   "source": [
    "data=data.drop([\"Title\",\"Views\",\"Posted\",\"Road\",\"Parking\",\"Build Area\"],axis=1)"
   ]
  },
  {
   "cell_type": "code",
   "execution_count": 192,
   "id": "605d7410-4443-42dd-bf55-6eae320a714e",
   "metadata": {},
   "outputs": [
    {
     "name": "stdout",
     "output_type": "stream",
     "text": [
      "<class 'pandas.core.frame.DataFrame'>\n",
      "RangeIndex: 2211 entries, 0 to 2210\n",
      "Data columns (total 12 columns):\n",
      " #   Column      Non-Null Count  Dtype  \n",
      "---  ------      --------------  -----  \n",
      " 0   Address     2211 non-null   object \n",
      " 1   City        2211 non-null   object \n",
      " 2   Price       2211 non-null   int64  \n",
      " 3   Bedroom     2211 non-null   int64  \n",
      " 4   Bathroom    2211 non-null   int64  \n",
      " 5   Floors      1039 non-null   float64\n",
      " 6   Face        2211 non-null   object \n",
      " 7   Year        582 non-null    float64\n",
      " 8   Area        2211 non-null   object \n",
      " 9   Road Width  2211 non-null   object \n",
      " 10  Road Type   1426 non-null   object \n",
      " 11  Amenities   2211 non-null   object \n",
      "dtypes: float64(2), int64(3), object(7)\n",
      "memory usage: 207.4+ KB\n"
     ]
    }
   ],
   "source": [
    "data.info()"
   ]
  },
  {
   "cell_type": "code",
   "execution_count": 193,
   "id": "1702f98a-7553-4ced-9931-9eb78d738bed",
   "metadata": {},
   "outputs": [
    {
     "data": {
      "text/plain": [
       "City\n",
       "Kathmandu      1483\n",
       "Lalitpur        432\n",
       "Bhaktapur        85\n",
       "Pokhara          64\n",
       "Chitwan          33\n",
       "Nawalparasi      12\n",
       "Makwanpur        12\n",
       "Dharan           11\n",
       "Jhapa            10\n",
       "Sunsari           7\n",
       "Kirtipur          7\n",
       "Kavre             7\n",
       "Butwal            6\n",
       "Biratnagar        6\n",
       "Bara              4\n",
       "Dhading           4\n",
       "Morang            4\n",
       "Parsa             4\n",
       "Itahari           3\n",
       "Kaski             3\n",
       "Rupandehi         3\n",
       "Mahottari         1\n",
       "Bardiya           1\n",
       "Birtamod          1\n",
       "Dang              1\n",
       "Surkhet           1\n",
       "Bhairahawa        1\n",
       "Kapilvastu        1\n",
       "Tanahu            1\n",
       "Illam             1\n",
       "Nawalpur          1\n",
       "Kailali           1\n",
       "Name: count, dtype: int64"
      ]
     },
     "execution_count": 193,
     "metadata": {},
     "output_type": "execute_result"
    }
   ],
   "source": [
    "data.City.value_counts()"
   ]
  },
  {
   "cell_type": "code",
   "execution_count": 194,
   "id": "9de3566a-c2f0-418c-a161-41ed581cbae5",
   "metadata": {},
   "outputs": [
    {
     "name": "stdout",
     "output_type": "stream",
     "text": [
      "['Sunsari', 'Kirtipur', 'Kavre', 'Butwal', 'Biratnagar', 'Bara', 'Dhading', 'Morang', 'Parsa', 'Itahari', 'Kaski', 'Rupandehi', 'Mahottari', 'Bardiya', 'Birtamod', 'Dang', 'Surkhet', 'Bhairahawa', 'Kapilvastu', 'Tanahu', 'Illam', 'Nawalpur', 'Kailali']\n"
     ]
    }
   ],
   "source": [
    "city_counts = data.City.value_counts()\n",
    "values_to_drop= city_counts[city_counts < 10].index.tolist()\n",
    "print(values_to_drop)"
   ]
  },
  {
   "cell_type": "code",
   "execution_count": 195,
   "id": "78d52237-d139-4daf-8fc0-a965d0786a94",
   "metadata": {},
   "outputs": [],
   "source": [
    "data= data.loc[~data['City'].isin(values_to_drop)]"
   ]
  },
  {
   "cell_type": "code",
   "execution_count": 196,
   "id": "f24d0fc5-d6f7-4b21-9099-f7961cebfa48",
   "metadata": {},
   "outputs": [
    {
     "data": {
      "text/plain": [
       "City\n",
       "Kathmandu      1483\n",
       "Lalitpur        432\n",
       "Bhaktapur        85\n",
       "Pokhara          64\n",
       "Chitwan          33\n",
       "Makwanpur        12\n",
       "Nawalparasi      12\n",
       "Dharan           11\n",
       "Jhapa            10\n",
       "Name: count, dtype: int64"
      ]
     },
     "execution_count": 196,
     "metadata": {},
     "output_type": "execute_result"
    }
   ],
   "source": [
    "data.City.value_counts()"
   ]
  },
  {
   "cell_type": "code",
   "execution_count": null,
   "id": "c98b9c54-a764-468d-b521-f5ada4c42933",
   "metadata": {},
   "outputs": [],
   "source": []
  },
  {
   "cell_type": "code",
   "execution_count": 197,
   "id": "022cc571-a3d8-4ca5-bd75-46dce5cb1c0a",
   "metadata": {},
   "outputs": [
    {
     "name": "stdout",
     "output_type": "stream",
     "text": [
      "<class 'pandas.core.frame.DataFrame'>\n",
      "Index: 2142 entries, 0 to 2210\n",
      "Data columns (total 12 columns):\n",
      " #   Column      Non-Null Count  Dtype  \n",
      "---  ------      --------------  -----  \n",
      " 0   Address     2142 non-null   object \n",
      " 1   City        2142 non-null   object \n",
      " 2   Price       2142 non-null   int64  \n",
      " 3   Bedroom     2142 non-null   int64  \n",
      " 4   Bathroom    2142 non-null   int64  \n",
      " 5   Floors      1013 non-null   float64\n",
      " 6   Face        2142 non-null   object \n",
      " 7   Year        575 non-null    float64\n",
      " 8   Area        2142 non-null   object \n",
      " 9   Road Width  2142 non-null   object \n",
      " 10  Road Type   1375 non-null   object \n",
      " 11  Amenities   2142 non-null   object \n",
      "dtypes: float64(2), int64(3), object(7)\n",
      "memory usage: 217.5+ KB\n"
     ]
    }
   ],
   "source": [
    "data.info()"
   ]
  },
  {
   "cell_type": "code",
   "execution_count": 198,
   "id": "7336d50a-a432-4b64-8469-1c5321304a71",
   "metadata": {},
   "outputs": [],
   "source": [
    "data['Address'] = data['Address'].str.lower().str.strip()\n",
    "\n",
    "# Extract middle part (Neighborhood)\n",
    "def extract_neighborhood(addr):\n",
    "    if pd.isna(addr):\n",
    "        return 'unknown'\n",
    "    parts = addr.split(',')\n",
    "    if len(parts) >= 2:\n",
    "        return parts[1].strip()\n",
    "    else:\n",
    "        return 'unknown'\n",
    "\n",
    "data['Neighborhood'] = data['Address'].apply(extract_neighborhood)"
   ]
  },
  {
   "cell_type": "code",
   "execution_count": 199,
   "id": "eda260ef-cad7-44d1-b6f3-ba522ca6e3a9",
   "metadata": {},
   "outputs": [
    {
     "data": {
      "text/plain": [
       "1"
      ]
     },
     "execution_count": 199,
     "metadata": {},
     "output_type": "execute_result"
    }
   ],
   "source": [
    "(data['Neighborhood'].str.strip() == '').sum()"
   ]
  },
  {
   "cell_type": "code",
   "execution_count": 200,
   "id": "3473b026-957c-46ab-80de-56ff67d774b4",
   "metadata": {},
   "outputs": [],
   "source": [
    "mode_value = data['Neighborhood'].mode()[0]\n",
    "data.loc[data['Neighborhood'].str.strip() == '', 'Neighborhood'] = mode_value"
   ]
  },
  {
   "cell_type": "code",
   "execution_count": 201,
   "id": "60287e96-66e3-4c41-be14-248d580fa3c7",
   "metadata": {},
   "outputs": [
    {
     "data": {
      "text/plain": [
       "0"
      ]
     },
     "execution_count": 201,
     "metadata": {},
     "output_type": "execute_result"
    }
   ],
   "source": [
    "(data['Neighborhood'].str.strip() == '').sum()"
   ]
  },
  {
   "cell_type": "code",
   "execution_count": 202,
   "id": "6b53a320-6366-43a3-8b41-3a53c46c6c0f",
   "metadata": {},
   "outputs": [
    {
     "name": "stdout",
     "output_type": "stream",
     "text": [
      "<class 'pandas.core.frame.DataFrame'>\n",
      "Index: 2142 entries, 0 to 2210\n",
      "Data columns (total 13 columns):\n",
      " #   Column        Non-Null Count  Dtype  \n",
      "---  ------        --------------  -----  \n",
      " 0   Address       2142 non-null   object \n",
      " 1   City          2142 non-null   object \n",
      " 2   Price         2142 non-null   int64  \n",
      " 3   Bedroom       2142 non-null   int64  \n",
      " 4   Bathroom      2142 non-null   int64  \n",
      " 5   Floors        1013 non-null   float64\n",
      " 6   Face          2142 non-null   object \n",
      " 7   Year          575 non-null    float64\n",
      " 8   Area          2142 non-null   object \n",
      " 9   Road Width    2142 non-null   object \n",
      " 10  Road Type     1375 non-null   object \n",
      " 11  Amenities     2142 non-null   object \n",
      " 12  Neighborhood  2142 non-null   object \n",
      "dtypes: float64(2), int64(3), object(8)\n",
      "memory usage: 234.3+ KB\n"
     ]
    }
   ],
   "source": [
    "data.info()"
   ]
  },
  {
   "cell_type": "code",
   "execution_count": 203,
   "id": "dcc9842b-6ecb-49d2-8843-c2bfb046af34",
   "metadata": {},
   "outputs": [
    {
     "data": {
      "text/plain": [
       "Neighborhood\n",
       "budhanilkantha                    198\n",
       "imadol                             79\n",
       "bhaisepati                         52\n",
       "baluwatar                          42\n",
       "hattigauda                         40\n",
       "                                 ... \n",
       "near sunrise bank                   1\n",
       "ward no 6                           1\n",
       "1 kitta inside from main road.      1\n",
       "chabahil main road.                 1\n",
       "dada pauwa                          1\n",
       "Name: count, Length: 406, dtype: int64"
      ]
     },
     "execution_count": 203,
     "metadata": {},
     "output_type": "execute_result"
    }
   ],
   "source": [
    "data.Neighborhood.value_counts()"
   ]
  },
  {
   "cell_type": "code",
   "execution_count": null,
   "id": "4c47bd34-19ff-4dbf-8480-5ceb63396dbf",
   "metadata": {},
   "outputs": [],
   "source": []
  },
  {
   "cell_type": "code",
   "execution_count": 204,
   "id": "281b5ea6-6552-4975-bc6e-6c4de7eff46c",
   "metadata": {},
   "outputs": [],
   "source": [
    "# Function to convert each entry to Aana\n",
    "def convert_to_aana(area):\n",
    "    area = area.strip()\n",
    "\n",
    "    # Check for \"Ropani\" and convert\n",
    "    if \"Ropani\" in area:\n",
    "        ropani = float(re.findall(r'\\d+', area)[0])\n",
    "        return ropani * 16\n",
    "\n",
    "    # Check for \"Sq. Feet\" and convert to aana\n",
    "    if \"Sq. Feet\" in area:\n",
    "        # Extract the numeric part using regex\n",
    "        matches = re.findall(r'\\d+', area)\n",
    "        if matches:  # Ensure there is at least one match\n",
    "            sq_feet = float(matches[0])\n",
    "            return sq_feet / 342.25  # Convert to aana\n",
    "\n",
    "    # Check for a-b-c-d Aana format\n",
    "    if re.match(r'\\d+-\\d+-\\d+-\\d+ Aana', area):\n",
    "        parts = list(map(int, area.split(' ')[0].split('-')))\n",
    "        a, b, c, d = parts\n",
    "        return a * 16 + b + c / 4 + d / 16\n",
    "\n",
    "    # Check for x-y-z Aana format\n",
    "    if re.match(r'\\d+-\\d+-\\d+ Aana', area):\n",
    "        parts = list(map(int, area.split(' ')[0].split('-')))\n",
    "        x, y, z = parts\n",
    "        return x + y / 4 + z / 16\n",
    "\n",
    "    # Check for x-y Aana format\n",
    "    if re.match(r'\\d+-\\d+ Aana', area):\n",
    "        parts = list(map(int, area.split(' ')[0].split('-')))\n",
    "        x, y = parts\n",
    "        return x + y / 4\n",
    "\n",
    "    # Check for \"X Aana\" format (including decimals)\n",
    "    if re.match(r'^\\d+\\.?\\d* Aana$', area):\n",
    "        return float(re.findall(r'\\d+\\.?\\d*', area)[0])\n",
    "\n",
    "    # If none of the formats match, return \"Remove\"\n",
    "    return \"Remove\""
   ]
  },
  {
   "cell_type": "code",
   "execution_count": 205,
   "id": "b1a98f76-04ff-4d54-a53b-4dcb7dba80e2",
   "metadata": {},
   "outputs": [],
   "source": [
    "data['Area'] = data['Area'].apply(convert_to_aana)"
   ]
  },
  {
   "cell_type": "code",
   "execution_count": 206,
   "id": "05f7ee26-8241-41df-8d49-fc11df048048",
   "metadata": {},
   "outputs": [
    {
     "data": {
      "text/html": [
       "<div>\n",
       "<style scoped>\n",
       "    .dataframe tbody tr th:only-of-type {\n",
       "        vertical-align: middle;\n",
       "    }\n",
       "\n",
       "    .dataframe tbody tr th {\n",
       "        vertical-align: top;\n",
       "    }\n",
       "\n",
       "    .dataframe thead th {\n",
       "        text-align: right;\n",
       "    }\n",
       "</style>\n",
       "<table border=\"1\" class=\"dataframe\">\n",
       "  <thead>\n",
       "    <tr style=\"text-align: right;\">\n",
       "      <th></th>\n",
       "      <th>Address</th>\n",
       "      <th>City</th>\n",
       "      <th>Price</th>\n",
       "      <th>Bedroom</th>\n",
       "      <th>Bathroom</th>\n",
       "      <th>Floors</th>\n",
       "      <th>Face</th>\n",
       "      <th>Year</th>\n",
       "      <th>Area</th>\n",
       "      <th>Road Width</th>\n",
       "      <th>Road Type</th>\n",
       "      <th>Amenities</th>\n",
       "      <th>Neighborhood</th>\n",
       "    </tr>\n",
       "  </thead>\n",
       "  <tbody>\n",
       "    <tr>\n",
       "      <th>0</th>\n",
       "      <td>budhanikantha, budhanilkantha, kathmandu</td>\n",
       "      <td>Kathmandu</td>\n",
       "      <td>90000000</td>\n",
       "      <td>6</td>\n",
       "      <td>3</td>\n",
       "      <td>2.0</td>\n",
       "      <td>West</td>\n",
       "      <td>2073.0</td>\n",
       "      <td>16.0</td>\n",
       "      <td>20 Feet</td>\n",
       "      <td>Blacktopped</td>\n",
       "      <td>['Parking', 'Lawn', 'Garage', 'Frontyard', 'Fe...</td>\n",
       "      <td>budhanilkantha</td>\n",
       "    </tr>\n",
       "    <tr>\n",
       "      <th>1</th>\n",
       "      <td>pasikot, budhanilkantha, kathmandu</td>\n",
       "      <td>Kathmandu</td>\n",
       "      <td>80000000</td>\n",
       "      <td>5</td>\n",
       "      <td>3</td>\n",
       "      <td>2.0</td>\n",
       "      <td>East</td>\n",
       "      <td>2073.0</td>\n",
       "      <td>21.0</td>\n",
       "      <td>20 Feet</td>\n",
       "      <td>Blacktopped</td>\n",
       "      <td>['Parking', 'Garage', 'Fencing', 'Frontyard', ...</td>\n",
       "      <td>budhanilkantha</td>\n",
       "    </tr>\n",
       "    <tr>\n",
       "      <th>2</th>\n",
       "      <td>dhapasi, dhapasi, kathmandu</td>\n",
       "      <td>Kathmandu</td>\n",
       "      <td>70000000</td>\n",
       "      <td>5</td>\n",
       "      <td>3</td>\n",
       "      <td>2.0</td>\n",
       "      <td>East</td>\n",
       "      <td>2071.0</td>\n",
       "      <td>17.0</td>\n",
       "      <td>20 Feet</td>\n",
       "      <td>Blacktopped</td>\n",
       "      <td>['Parking', 'Lawn', 'Garage', 'Frontyard', 'Fe...</td>\n",
       "      <td>dhapasi</td>\n",
       "    </tr>\n",
       "    <tr>\n",
       "      <th>3</th>\n",
       "      <td>baluwatar, baluwatar, kathmandu</td>\n",
       "      <td>Kathmandu</td>\n",
       "      <td>130000000</td>\n",
       "      <td>6</td>\n",
       "      <td>4</td>\n",
       "      <td>3.0</td>\n",
       "      <td>West</td>\n",
       "      <td>2017.0</td>\n",
       "      <td>10.25</td>\n",
       "      <td>20 Feet</td>\n",
       "      <td>Blacktopped</td>\n",
       "      <td>['Parking', 'Lawn', 'Garage', 'Frontyard', 'Fe...</td>\n",
       "      <td>baluwatar</td>\n",
       "    </tr>\n",
       "    <tr>\n",
       "      <th>4</th>\n",
       "      <td>golfutar, golfutar, kathmandu</td>\n",
       "      <td>Kathmandu</td>\n",
       "      <td>100000000</td>\n",
       "      <td>6</td>\n",
       "      <td>3</td>\n",
       "      <td>2.0</td>\n",
       "      <td>East</td>\n",
       "      <td>2070.0</td>\n",
       "      <td>19.5</td>\n",
       "      <td>20 Feet</td>\n",
       "      <td>Blacktopped</td>\n",
       "      <td>['Parking', 'Lawn', 'Garage', 'Balcony', 'Back...</td>\n",
       "      <td>golfutar</td>\n",
       "    </tr>\n",
       "  </tbody>\n",
       "</table>\n",
       "</div>"
      ],
      "text/plain": [
       "                                    Address       City      Price  Bedroom  \\\n",
       "0  budhanikantha, budhanilkantha, kathmandu  Kathmandu   90000000        6   \n",
       "1        pasikot, budhanilkantha, kathmandu  Kathmandu   80000000        5   \n",
       "2               dhapasi, dhapasi, kathmandu  Kathmandu   70000000        5   \n",
       "3           baluwatar, baluwatar, kathmandu  Kathmandu  130000000        6   \n",
       "4             golfutar, golfutar, kathmandu  Kathmandu  100000000        6   \n",
       "\n",
       "   Bathroom  Floors  Face    Year   Area Road Width     Road Type  \\\n",
       "0         3     2.0  West  2073.0   16.0   20 Feet    Blacktopped   \n",
       "1         3     2.0  East  2073.0   21.0   20 Feet    Blacktopped   \n",
       "2         3     2.0  East  2071.0   17.0   20 Feet    Blacktopped   \n",
       "3         4     3.0  West  2017.0  10.25   20 Feet    Blacktopped   \n",
       "4         3     2.0  East  2070.0   19.5   20 Feet    Blacktopped   \n",
       "\n",
       "                                           Amenities    Neighborhood  \n",
       "0  ['Parking', 'Lawn', 'Garage', 'Frontyard', 'Fe...  budhanilkantha  \n",
       "1  ['Parking', 'Garage', 'Fencing', 'Frontyard', ...  budhanilkantha  \n",
       "2  ['Parking', 'Lawn', 'Garage', 'Frontyard', 'Fe...         dhapasi  \n",
       "3  ['Parking', 'Lawn', 'Garage', 'Frontyard', 'Fe...       baluwatar  \n",
       "4  ['Parking', 'Lawn', 'Garage', 'Balcony', 'Back...        golfutar  "
      ]
     },
     "execution_count": 206,
     "metadata": {},
     "output_type": "execute_result"
    }
   ],
   "source": [
    "data.head()"
   ]
  },
  {
   "cell_type": "code",
   "execution_count": 207,
   "id": "e9a3b753-63af-42a7-a57d-f9a56a568820",
   "metadata": {},
   "outputs": [],
   "source": [
    "data['Amenities_Count'] = data['Amenities'].apply(lambda x: len(eval(x)) if pd.notnull(x) and x != '[]' else 0)"
   ]
  },
  {
   "cell_type": "code",
   "execution_count": 208,
   "id": "4e903334-58a4-406c-8a56-7cd34f450522",
   "metadata": {},
   "outputs": [],
   "source": [
    "import datetime as dt\n",
    "current_year_bs= dt.datetime.now().year + 57\n",
    "data['Property_Age'] = current_year_bs - data['Year']"
   ]
  },
  {
   "cell_type": "code",
   "execution_count": 209,
   "id": "d17feb16-e0ba-471f-b751-745ed4acedb0",
   "metadata": {},
   "outputs": [
    {
     "name": "stdout",
     "output_type": "stream",
     "text": [
      "<class 'pandas.core.frame.DataFrame'>\n",
      "Index: 2142 entries, 0 to 2210\n",
      "Data columns (total 15 columns):\n",
      " #   Column           Non-Null Count  Dtype  \n",
      "---  ------           --------------  -----  \n",
      " 0   Address          2142 non-null   object \n",
      " 1   City             2142 non-null   object \n",
      " 2   Price            2142 non-null   int64  \n",
      " 3   Bedroom          2142 non-null   int64  \n",
      " 4   Bathroom         2142 non-null   int64  \n",
      " 5   Floors           1013 non-null   float64\n",
      " 6   Face             2142 non-null   object \n",
      " 7   Year             575 non-null    float64\n",
      " 8   Area             2142 non-null   object \n",
      " 9   Road Width       2142 non-null   object \n",
      " 10  Road Type        1375 non-null   object \n",
      " 11  Amenities        2142 non-null   object \n",
      " 12  Neighborhood     2142 non-null   object \n",
      " 13  Amenities_Count  2142 non-null   int64  \n",
      " 14  Property_Age     575 non-null    float64\n",
      "dtypes: float64(3), int64(4), object(8)\n",
      "memory usage: 267.8+ KB\n"
     ]
    }
   ],
   "source": [
    "data.info()"
   ]
  },
  {
   "cell_type": "code",
   "execution_count": null,
   "id": "768c476c-4a0d-45fe-a884-e8eb9db77cb0",
   "metadata": {},
   "outputs": [],
   "source": []
  },
  {
   "cell_type": "code",
   "execution_count": 210,
   "id": "30988d6b-1c5d-4fbe-9898-6154600d840c",
   "metadata": {},
   "outputs": [],
   "source": [
    "data=data.drop([\"Address\", \"Year\", \"Amenities\"],axis=1)"
   ]
  },
  {
   "cell_type": "code",
   "execution_count": 211,
   "id": "9429e270-0785-489a-a4e3-94e5470c53b8",
   "metadata": {},
   "outputs": [
    {
     "name": "stdout",
     "output_type": "stream",
     "text": [
      "<class 'pandas.core.frame.DataFrame'>\n",
      "Index: 2142 entries, 0 to 2210\n",
      "Data columns (total 12 columns):\n",
      " #   Column           Non-Null Count  Dtype  \n",
      "---  ------           --------------  -----  \n",
      " 0   City             2142 non-null   object \n",
      " 1   Price            2142 non-null   int64  \n",
      " 2   Bedroom          2142 non-null   int64  \n",
      " 3   Bathroom         2142 non-null   int64  \n",
      " 4   Floors           1013 non-null   float64\n",
      " 5   Face             2142 non-null   object \n",
      " 6   Area             2142 non-null   object \n",
      " 7   Road Width       2142 non-null   object \n",
      " 8   Road Type        1375 non-null   object \n",
      " 9   Neighborhood     2142 non-null   object \n",
      " 10  Amenities_Count  2142 non-null   int64  \n",
      " 11  Property_Age     575 non-null    float64\n",
      "dtypes: float64(2), int64(4), object(6)\n",
      "memory usage: 217.5+ KB\n"
     ]
    }
   ],
   "source": [
    "data.info()"
   ]
  },
  {
   "cell_type": "code",
   "execution_count": null,
   "id": "04f114df-0a98-4c8f-a6f1-bb9ff17f5bb9",
   "metadata": {},
   "outputs": [],
   "source": []
  },
  {
   "cell_type": "code",
   "execution_count": 212,
   "id": "9b13116c-9e98-4036-abcd-68b2a9b522b7",
   "metadata": {},
   "outputs": [
    {
     "data": {
      "text/html": [
       "<div>\n",
       "<style scoped>\n",
       "    .dataframe tbody tr th:only-of-type {\n",
       "        vertical-align: middle;\n",
       "    }\n",
       "\n",
       "    .dataframe tbody tr th {\n",
       "        vertical-align: top;\n",
       "    }\n",
       "\n",
       "    .dataframe thead th {\n",
       "        text-align: right;\n",
       "    }\n",
       "</style>\n",
       "<table border=\"1\" class=\"dataframe\">\n",
       "  <thead>\n",
       "    <tr style=\"text-align: right;\">\n",
       "      <th></th>\n",
       "      <th>City</th>\n",
       "      <th>Price</th>\n",
       "      <th>Bedroom</th>\n",
       "      <th>Bathroom</th>\n",
       "      <th>Floors</th>\n",
       "      <th>Face</th>\n",
       "      <th>Area</th>\n",
       "      <th>Road Width</th>\n",
       "      <th>Road Type</th>\n",
       "      <th>Neighborhood</th>\n",
       "      <th>Amenities_Count</th>\n",
       "      <th>Property_Age</th>\n",
       "    </tr>\n",
       "  </thead>\n",
       "  <tbody>\n",
       "    <tr>\n",
       "      <th>0</th>\n",
       "      <td>Kathmandu</td>\n",
       "      <td>90000000</td>\n",
       "      <td>6</td>\n",
       "      <td>3</td>\n",
       "      <td>2.0</td>\n",
       "      <td>West</td>\n",
       "      <td>16.0</td>\n",
       "      <td>20 Feet</td>\n",
       "      <td>Blacktopped</td>\n",
       "      <td>budhanilkantha</td>\n",
       "      <td>16</td>\n",
       "      <td>9.0</td>\n",
       "    </tr>\n",
       "    <tr>\n",
       "      <th>1</th>\n",
       "      <td>Kathmandu</td>\n",
       "      <td>80000000</td>\n",
       "      <td>5</td>\n",
       "      <td>3</td>\n",
       "      <td>2.0</td>\n",
       "      <td>East</td>\n",
       "      <td>21.0</td>\n",
       "      <td>20 Feet</td>\n",
       "      <td>Blacktopped</td>\n",
       "      <td>budhanilkantha</td>\n",
       "      <td>15</td>\n",
       "      <td>9.0</td>\n",
       "    </tr>\n",
       "    <tr>\n",
       "      <th>2</th>\n",
       "      <td>Kathmandu</td>\n",
       "      <td>70000000</td>\n",
       "      <td>5</td>\n",
       "      <td>3</td>\n",
       "      <td>2.0</td>\n",
       "      <td>East</td>\n",
       "      <td>17.0</td>\n",
       "      <td>20 Feet</td>\n",
       "      <td>Blacktopped</td>\n",
       "      <td>dhapasi</td>\n",
       "      <td>16</td>\n",
       "      <td>11.0</td>\n",
       "    </tr>\n",
       "    <tr>\n",
       "      <th>3</th>\n",
       "      <td>Kathmandu</td>\n",
       "      <td>130000000</td>\n",
       "      <td>6</td>\n",
       "      <td>4</td>\n",
       "      <td>3.0</td>\n",
       "      <td>West</td>\n",
       "      <td>10.25</td>\n",
       "      <td>20 Feet</td>\n",
       "      <td>Blacktopped</td>\n",
       "      <td>baluwatar</td>\n",
       "      <td>16</td>\n",
       "      <td>65.0</td>\n",
       "    </tr>\n",
       "    <tr>\n",
       "      <th>4</th>\n",
       "      <td>Kathmandu</td>\n",
       "      <td>100000000</td>\n",
       "      <td>6</td>\n",
       "      <td>3</td>\n",
       "      <td>2.0</td>\n",
       "      <td>East</td>\n",
       "      <td>19.5</td>\n",
       "      <td>20 Feet</td>\n",
       "      <td>Blacktopped</td>\n",
       "      <td>golfutar</td>\n",
       "      <td>16</td>\n",
       "      <td>12.0</td>\n",
       "    </tr>\n",
       "  </tbody>\n",
       "</table>\n",
       "</div>"
      ],
      "text/plain": [
       "        City      Price  Bedroom  Bathroom  Floors  Face   Area Road Width  \\\n",
       "0  Kathmandu   90000000        6         3     2.0  West   16.0   20 Feet    \n",
       "1  Kathmandu   80000000        5         3     2.0  East   21.0   20 Feet    \n",
       "2  Kathmandu   70000000        5         3     2.0  East   17.0   20 Feet    \n",
       "3  Kathmandu  130000000        6         4     3.0  West  10.25   20 Feet    \n",
       "4  Kathmandu  100000000        6         3     2.0  East   19.5   20 Feet    \n",
       "\n",
       "      Road Type    Neighborhood  Amenities_Count  Property_Age  \n",
       "0   Blacktopped  budhanilkantha               16           9.0  \n",
       "1   Blacktopped  budhanilkantha               15           9.0  \n",
       "2   Blacktopped         dhapasi               16          11.0  \n",
       "3   Blacktopped       baluwatar               16          65.0  \n",
       "4   Blacktopped        golfutar               16          12.0  "
      ]
     },
     "execution_count": 212,
     "metadata": {},
     "output_type": "execute_result"
    }
   ],
   "source": [
    "data.head()"
   ]
  },
  {
   "cell_type": "code",
   "execution_count": null,
   "id": "b61f3900-3d0a-491c-a7af-971480384d07",
   "metadata": {},
   "outputs": [],
   "source": []
  },
  {
   "cell_type": "code",
   "execution_count": 213,
   "id": "73b84d6b-4506-4920-a46e-e42b386201d0",
   "metadata": {},
   "outputs": [
    {
     "data": {
      "text/plain": [
       "City               2142\n",
       "Price              2142\n",
       "Bedroom            2142\n",
       "Bathroom           2142\n",
       "Floors             2142\n",
       "Face               2142\n",
       "Area               2142\n",
       "Road Width         2142\n",
       "Road Type          2142\n",
       "Neighborhood       2142\n",
       "Amenities_Count    2142\n",
       "Property_Age       2142\n",
       "dtype: int64"
      ]
     },
     "execution_count": 213,
     "metadata": {},
     "output_type": "execute_result"
    }
   ],
   "source": [
    "data.isna().count()"
   ]
  },
  {
   "cell_type": "code",
   "execution_count": null,
   "id": "1cca6110-fb48-4cc7-a9bb-1a15af71ac62",
   "metadata": {},
   "outputs": [],
   "source": []
  },
  {
   "cell_type": "code",
   "execution_count": 214,
   "id": "0df5a257-1346-4a12-a1c6-ae17f05eb993",
   "metadata": {},
   "outputs": [
    {
     "data": {
      "text/plain": [
       "159"
      ]
     },
     "execution_count": 214,
     "metadata": {},
     "output_type": "execute_result"
    }
   ],
   "source": [
    "data.Area.value_counts().get('Remove',0)"
   ]
  },
  {
   "cell_type": "code",
   "execution_count": 215,
   "id": "1acb792e-1b17-475a-b52f-7b581022276e",
   "metadata": {},
   "outputs": [],
   "source": [
    "data = data[data.Area != 'Remove']"
   ]
  },
  {
   "cell_type": "code",
   "execution_count": 216,
   "id": "42d4244e-84bd-415d-b52f-e06d8efa83df",
   "metadata": {},
   "outputs": [
    {
     "data": {
      "text/plain": [
       "City                  0\n",
       "Price                 0\n",
       "Bedroom               0\n",
       "Bathroom              0\n",
       "Floors             1031\n",
       "Face                  0\n",
       "Area                  0\n",
       "Road Width            0\n",
       "Road Type           728\n",
       "Neighborhood          0\n",
       "Amenities_Count       0\n",
       "Property_Age       1448\n",
       "dtype: int64"
      ]
     },
     "execution_count": 216,
     "metadata": {},
     "output_type": "execute_result"
    }
   ],
   "source": [
    "data.isna().sum()"
   ]
  },
  {
   "cell_type": "code",
   "execution_count": null,
   "id": "028dc997-8877-4567-a16d-89320bb0be3e",
   "metadata": {},
   "outputs": [],
   "source": []
  },
  {
   "cell_type": "code",
   "execution_count": 217,
   "id": "622db537-7846-4b46-8b89-a584dcb5980b",
   "metadata": {},
   "outputs": [],
   "source": [
    "def convert_to_feet(value):\n",
    "    if 'Meter' in value:\n",
    "        meters = int(float(value.replace(' Meter', '')))\n",
    "        return meters * 3.28084\n",
    "    elif 'Feet' in value:\n",
    "        return int(float(value.replace(' Feet', '')))\n",
    "    else:\n",
    "        return \"Remove\""
   ]
  },
  {
   "cell_type": "code",
   "execution_count": 218,
   "id": "2e98a1c5-0216-44c2-919a-db24be330a7b",
   "metadata": {},
   "outputs": [],
   "source": [
    "data['Road Width'] = data['Road Width'].apply(convert_to_feet)"
   ]
  },
  {
   "cell_type": "code",
   "execution_count": 219,
   "id": "795d8b42-baa3-4092-ada3-22cfca03db3b",
   "metadata": {},
   "outputs": [
    {
     "data": {
      "text/plain": [
       "0"
      ]
     },
     "execution_count": 219,
     "metadata": {},
     "output_type": "execute_result"
    }
   ],
   "source": [
    "data['Road Width'].value_counts().get('Remove',0)"
   ]
  },
  {
   "cell_type": "code",
   "execution_count": 220,
   "id": "1998880b-8dc5-4ab1-b5df-bb474b41dd62",
   "metadata": {},
   "outputs": [
    {
     "data": {
      "text/plain": [
       "array([' Blacktopped', ' Gravelled', ' Concrete', ' Paved', nan,\n",
       "       ' Soil Stabilized', ' Alley'], dtype=object)"
      ]
     },
     "execution_count": 220,
     "metadata": {},
     "output_type": "execute_result"
    }
   ],
   "source": [
    "data[\"Road Type\"].unique()"
   ]
  },
  {
   "cell_type": "code",
   "execution_count": 221,
   "id": "db60a819-e646-4265-b233-9a8651c9a4e8",
   "metadata": {},
   "outputs": [
    {
     "data": {
      "text/plain": [
       "Road Type\n",
       "Blacktopped        669\n",
       "Gravelled          352\n",
       "Soil Stabilized    139\n",
       "Paved               69\n",
       "Concrete            24\n",
       "Alley                2\n",
       "Name: count, dtype: int64"
      ]
     },
     "execution_count": 221,
     "metadata": {},
     "output_type": "execute_result"
    }
   ],
   "source": [
    "data['Road Type'].value_counts()"
   ]
  },
  {
   "cell_type": "code",
   "execution_count": 222,
   "id": "4198bd42-7901-49e7-a606-e9dddd51c358",
   "metadata": {},
   "outputs": [],
   "source": [
    "data.loc[data['Road Type'].isin([' Blacktopped', ' Concrete']), 'Road Type'] = 'Paved'\n",
    "data['Road Type'] = data['Road Type'].fillna(' Soil Stabilized')"
   ]
  },
  {
   "cell_type": "code",
   "execution_count": 223,
   "id": "b0b0606e-1ab1-422d-8e31-6b655b211d39",
   "metadata": {},
   "outputs": [],
   "source": [
    "data['Road Type'] = data['Road Type'].str.strip()"
   ]
  },
  {
   "cell_type": "code",
   "execution_count": 224,
   "id": "241b4420-46b5-490f-bcd6-ac8115e76054",
   "metadata": {},
   "outputs": [
    {
     "data": {
      "text/plain": [
       "Road Type\n",
       "Soil Stabilized    867\n",
       "Paved              762\n",
       "Gravelled          352\n",
       "Alley                2\n",
       "Name: count, dtype: int64"
      ]
     },
     "execution_count": 224,
     "metadata": {},
     "output_type": "execute_result"
    }
   ],
   "source": [
    "data['Road Type'].value_counts()"
   ]
  },
  {
   "cell_type": "code",
   "execution_count": 225,
   "id": "6a978048-9fb0-4cac-96b7-94817d5c1bba",
   "metadata": {},
   "outputs": [],
   "source": [
    "data = data.loc[~data['Road Type'].isin(['Alley'])]\n"
   ]
  },
  {
   "cell_type": "code",
   "execution_count": 226,
   "id": "da67f4d0-445d-4614-8ec7-ed6353019074",
   "metadata": {},
   "outputs": [
    {
     "data": {
      "text/plain": [
       "Road Type\n",
       "Soil Stabilized    867\n",
       "Paved              762\n",
       "Gravelled          352\n",
       "Name: count, dtype: int64"
      ]
     },
     "execution_count": 226,
     "metadata": {},
     "output_type": "execute_result"
    }
   ],
   "source": [
    "data['Road Type'].value_counts()"
   ]
  },
  {
   "cell_type": "code",
   "execution_count": null,
   "id": "dbc9256f-b18b-4628-806c-92c7e1170d34",
   "metadata": {},
   "outputs": [],
   "source": []
  },
  {
   "cell_type": "code",
   "execution_count": 227,
   "id": "0c8e8f36-0745-4f71-aef1-48f36a5fc01c",
   "metadata": {},
   "outputs": [
    {
     "data": {
      "text/plain": [
       "3.0"
      ]
     },
     "execution_count": 227,
     "metadata": {},
     "output_type": "execute_result"
    }
   ],
   "source": [
    "data['Floors'].median()"
   ]
  },
  {
   "cell_type": "code",
   "execution_count": 228,
   "id": "d8a7211e-9022-4356-a76e-32e791e08db6",
   "metadata": {},
   "outputs": [],
   "source": [
    "data['Floors'] = data['Floors'].fillna(data['Floors'].median())"
   ]
  },
  {
   "cell_type": "code",
   "execution_count": null,
   "id": "b74dde3c-0f19-4093-b389-cb2de0ea2dbf",
   "metadata": {},
   "outputs": [],
   "source": []
  },
  {
   "cell_type": "code",
   "execution_count": 229,
   "id": "95952861-b033-4cc5-8ea2-95455ce33d23",
   "metadata": {},
   "outputs": [
    {
     "data": {
      "text/plain": [
       "dtype('float64')"
      ]
     },
     "execution_count": 229,
     "metadata": {},
     "output_type": "execute_result"
    }
   ],
   "source": [
    "data['Property_Age'].dtype"
   ]
  },
  {
   "cell_type": "code",
   "execution_count": 230,
   "id": "13fa0684-b7cc-4ba0-b08b-da9631331263",
   "metadata": {},
   "outputs": [
    {
     "data": {
      "text/plain": [
       "<Axes: >"
      ]
     },
     "execution_count": 230,
     "metadata": {},
     "output_type": "execute_result"
    },
    {
     "data": {
      "image/png": "[encoded data removed]",
      "text/plain": [
       "<Figure size 640x480 with 1 Axes>"
      ]
     },
     "metadata": {},
     "output_type": "display_data"
    }
   ],
   "source": [
    "data['Property_Age'].describe()\n",
    "data['Property_Age'].hist()"
   ]
  },
  {
   "cell_type": "code",
   "execution_count": 231,
   "id": "80994b11-8009-48d1-ad98-7a38c5a5c0b5",
   "metadata": {},
   "outputs": [
    {
     "name": "stdout",
     "output_type": "stream",
     "text": [
      "Median Property Age: 8.0\n"
     ]
    }
   ],
   "source": [
    "print(\"Median Property Age:\", data['Property_Age'].median())\n"
   ]
  },
  {
   "cell_type": "code",
   "execution_count": 232,
   "id": "d2a291f4-51f3-437b-88a7-c7092110c6d0",
   "metadata": {},
   "outputs": [],
   "source": [
    "data['Property_Age'] = data['Property_Age'].fillna(data['Property_Age'].median())"
   ]
  },
  {
   "cell_type": "code",
   "execution_count": 233,
   "id": "b0fe1228-9c1b-46c4-8bfa-047a6dff6369",
   "metadata": {},
   "outputs": [
    {
     "data": {
      "text/plain": [
       "City               0\n",
       "Price              0\n",
       "Bedroom            0\n",
       "Bathroom           0\n",
       "Floors             0\n",
       "Face               0\n",
       "Area               0\n",
       "Road Width         0\n",
       "Road Type          0\n",
       "Neighborhood       0\n",
       "Amenities_Count    0\n",
       "Property_Age       0\n",
       "dtype: int64"
      ]
     },
     "execution_count": 233,
     "metadata": {},
     "output_type": "execute_result"
    }
   ],
   "source": [
    "data.isna().sum()"
   ]
  },
  {
   "cell_type": "code",
   "execution_count": null,
   "id": "d4ea6eed-292b-478a-990e-ab30ba9f5218",
   "metadata": {},
   "outputs": [],
   "source": []
  },
  {
   "cell_type": "code",
   "execution_count": 234,
   "id": "acba2dc3-0e9f-4ba6-9a64-9f9d3edc01b2",
   "metadata": {},
   "outputs": [],
   "source": [
    "lower = data['Price'].quantile(0.01)\n",
    "upper = data['Price'].quantile(0.99)\n",
    "\n",
    "data['Price'] = np.clip(data['Price'], lower, upper)\n"
   ]
  },
  {
   "cell_type": "code",
   "execution_count": 235,
   "id": "7ab22ebc-3d0d-40ad-a402-2c8e9c297900",
   "metadata": {},
   "outputs": [
    {
     "data": {
      "image/png": "[encoded data removed]",
      "text/plain": [
       "<Figure size 900x400 with 1 Axes>"
      ]
     },
     "metadata": {},
     "output_type": "display_data"
    }
   ],
   "source": [
    "plt.figure(figsize=(9, 4))\n",
    "data['Price'].plot(kind='line')\n",
    "\n",
    "# Add labels and title\n",
    "plt.title('Line Plot of Price')\n",
    "plt.xlabel('Index')\n",
    "plt.ylabel('Price in Rupees')\n",
    "\n",
    "# Show the plot\n",
    "plt.show()"
   ]
  },
  {
   "cell_type": "code",
   "execution_count": 236,
   "id": "c56ca93b-5102-48c0-90bc-247db106227f",
   "metadata": {},
   "outputs": [
    {
     "data": {
      "text/html": [
       "<div>\n",
       "<style scoped>\n",
       "    .dataframe tbody tr th:only-of-type {\n",
       "        vertical-align: middle;\n",
       "    }\n",
       "\n",
       "    .dataframe tbody tr th {\n",
       "        vertical-align: top;\n",
       "    }\n",
       "\n",
       "    .dataframe thead th {\n",
       "        text-align: right;\n",
       "    }\n",
       "</style>\n",
       "<table border=\"1\" class=\"dataframe\">\n",
       "  <thead>\n",
       "    <tr style=\"text-align: right;\">\n",
       "      <th></th>\n",
       "      <th>City</th>\n",
       "      <th>Price</th>\n",
       "      <th>Bedroom</th>\n",
       "      <th>Bathroom</th>\n",
       "      <th>Floors</th>\n",
       "      <th>Face</th>\n",
       "      <th>Area</th>\n",
       "      <th>Road Width</th>\n",
       "      <th>Road Type</th>\n",
       "      <th>Neighborhood</th>\n",
       "      <th>Amenities_Count</th>\n",
       "      <th>Property_Age</th>\n",
       "    </tr>\n",
       "  </thead>\n",
       "  <tbody>\n",
       "    <tr>\n",
       "      <th>0</th>\n",
       "      <td>Kathmandu</td>\n",
       "      <td>90000000</td>\n",
       "      <td>6</td>\n",
       "      <td>3</td>\n",
       "      <td>2.0</td>\n",
       "      <td>West</td>\n",
       "      <td>16.0</td>\n",
       "      <td>20.0</td>\n",
       "      <td>Paved</td>\n",
       "      <td>budhanilkantha</td>\n",
       "      <td>16</td>\n",
       "      <td>9.0</td>\n",
       "    </tr>\n",
       "    <tr>\n",
       "      <th>1</th>\n",
       "      <td>Kathmandu</td>\n",
       "      <td>80000000</td>\n",
       "      <td>5</td>\n",
       "      <td>3</td>\n",
       "      <td>2.0</td>\n",
       "      <td>East</td>\n",
       "      <td>21.0</td>\n",
       "      <td>20.0</td>\n",
       "      <td>Paved</td>\n",
       "      <td>budhanilkantha</td>\n",
       "      <td>15</td>\n",
       "      <td>9.0</td>\n",
       "    </tr>\n",
       "    <tr>\n",
       "      <th>2</th>\n",
       "      <td>Kathmandu</td>\n",
       "      <td>70000000</td>\n",
       "      <td>5</td>\n",
       "      <td>3</td>\n",
       "      <td>2.0</td>\n",
       "      <td>East</td>\n",
       "      <td>17.0</td>\n",
       "      <td>20.0</td>\n",
       "      <td>Paved</td>\n",
       "      <td>dhapasi</td>\n",
       "      <td>16</td>\n",
       "      <td>11.0</td>\n",
       "    </tr>\n",
       "    <tr>\n",
       "      <th>3</th>\n",
       "      <td>Kathmandu</td>\n",
       "      <td>130000000</td>\n",
       "      <td>6</td>\n",
       "      <td>4</td>\n",
       "      <td>3.0</td>\n",
       "      <td>West</td>\n",
       "      <td>10.25</td>\n",
       "      <td>20.0</td>\n",
       "      <td>Paved</td>\n",
       "      <td>baluwatar</td>\n",
       "      <td>16</td>\n",
       "      <td>65.0</td>\n",
       "    </tr>\n",
       "    <tr>\n",
       "      <th>4</th>\n",
       "      <td>Kathmandu</td>\n",
       "      <td>100000000</td>\n",
       "      <td>6</td>\n",
       "      <td>3</td>\n",
       "      <td>2.0</td>\n",
       "      <td>East</td>\n",
       "      <td>19.5</td>\n",
       "      <td>20.0</td>\n",
       "      <td>Paved</td>\n",
       "      <td>golfutar</td>\n",
       "      <td>16</td>\n",
       "      <td>12.0</td>\n",
       "    </tr>\n",
       "  </tbody>\n",
       "</table>\n",
       "</div>"
      ],
      "text/plain": [
       "        City      Price  Bedroom  Bathroom  Floors  Face   Area  Road Width  \\\n",
       "0  Kathmandu   90000000        6         3     2.0  West   16.0        20.0   \n",
       "1  Kathmandu   80000000        5         3     2.0  East   21.0        20.0   \n",
       "2  Kathmandu   70000000        5         3     2.0  East   17.0        20.0   \n",
       "3  Kathmandu  130000000        6         4     3.0  West  10.25        20.0   \n",
       "4  Kathmandu  100000000        6         3     2.0  East   19.5        20.0   \n",
       "\n",
       "  Road Type    Neighborhood  Amenities_Count  Property_Age  \n",
       "0     Paved  budhanilkantha               16           9.0  \n",
       "1     Paved  budhanilkantha               15           9.0  \n",
       "2     Paved         dhapasi               16          11.0  \n",
       "3     Paved       baluwatar               16          65.0  \n",
       "4     Paved        golfutar               16          12.0  "
      ]
     },
     "execution_count": 236,
     "metadata": {},
     "output_type": "execute_result"
    }
   ],
   "source": [
    "data.head()"
   ]
  },
  {
   "cell_type": "code",
   "execution_count": 237,
   "id": "747f15bb-df56-4987-98b5-e0edd5a328c1",
   "metadata": {},
   "outputs": [],
   "source": [
    "data.reset_index(drop=True, inplace=True)"
   ]
  },
  {
   "cell_type": "code",
   "execution_count": 238,
   "id": "8b597393-d21e-467a-bf56-c160b97599b1",
   "metadata": {},
   "outputs": [
    {
     "data": {
      "text/html": [
       "<div>\n",
       "<style scoped>\n",
       "    .dataframe tbody tr th:only-of-type {\n",
       "        vertical-align: middle;\n",
       "    }\n",
       "\n",
       "    .dataframe tbody tr th {\n",
       "        vertical-align: top;\n",
       "    }\n",
       "\n",
       "    .dataframe thead th {\n",
       "        text-align: right;\n",
       "    }\n",
       "</style>\n",
       "<table border=\"1\" class=\"dataframe\">\n",
       "  <thead>\n",
       "    <tr style=\"text-align: right;\">\n",
       "      <th></th>\n",
       "      <th>City</th>\n",
       "      <th>Price</th>\n",
       "      <th>Bedroom</th>\n",
       "      <th>Bathroom</th>\n",
       "      <th>Floors</th>\n",
       "      <th>Face</th>\n",
       "      <th>Area</th>\n",
       "      <th>Road Width</th>\n",
       "      <th>Road Type</th>\n",
       "      <th>Neighborhood</th>\n",
       "      <th>Amenities_Count</th>\n",
       "      <th>Property_Age</th>\n",
       "    </tr>\n",
       "  </thead>\n",
       "  <tbody>\n",
       "    <tr>\n",
       "      <th>0</th>\n",
       "      <td>Kathmandu</td>\n",
       "      <td>90000000</td>\n",
       "      <td>6</td>\n",
       "      <td>3</td>\n",
       "      <td>2.0</td>\n",
       "      <td>West</td>\n",
       "      <td>16.0</td>\n",
       "      <td>20.0</td>\n",
       "      <td>Paved</td>\n",
       "      <td>budhanilkantha</td>\n",
       "      <td>16</td>\n",
       "      <td>9.0</td>\n",
       "    </tr>\n",
       "    <tr>\n",
       "      <th>1</th>\n",
       "      <td>Kathmandu</td>\n",
       "      <td>80000000</td>\n",
       "      <td>5</td>\n",
       "      <td>3</td>\n",
       "      <td>2.0</td>\n",
       "      <td>East</td>\n",
       "      <td>21.0</td>\n",
       "      <td>20.0</td>\n",
       "      <td>Paved</td>\n",
       "      <td>budhanilkantha</td>\n",
       "      <td>15</td>\n",
       "      <td>9.0</td>\n",
       "    </tr>\n",
       "    <tr>\n",
       "      <th>2</th>\n",
       "      <td>Kathmandu</td>\n",
       "      <td>70000000</td>\n",
       "      <td>5</td>\n",
       "      <td>3</td>\n",
       "      <td>2.0</td>\n",
       "      <td>East</td>\n",
       "      <td>17.0</td>\n",
       "      <td>20.0</td>\n",
       "      <td>Paved</td>\n",
       "      <td>dhapasi</td>\n",
       "      <td>16</td>\n",
       "      <td>11.0</td>\n",
       "    </tr>\n",
       "    <tr>\n",
       "      <th>3</th>\n",
       "      <td>Kathmandu</td>\n",
       "      <td>130000000</td>\n",
       "      <td>6</td>\n",
       "      <td>4</td>\n",
       "      <td>3.0</td>\n",
       "      <td>West</td>\n",
       "      <td>10.25</td>\n",
       "      <td>20.0</td>\n",
       "      <td>Paved</td>\n",
       "      <td>baluwatar</td>\n",
       "      <td>16</td>\n",
       "      <td>65.0</td>\n",
       "    </tr>\n",
       "    <tr>\n",
       "      <th>4</th>\n",
       "      <td>Kathmandu</td>\n",
       "      <td>100000000</td>\n",
       "      <td>6</td>\n",
       "      <td>3</td>\n",
       "      <td>2.0</td>\n",
       "      <td>East</td>\n",
       "      <td>19.5</td>\n",
       "      <td>20.0</td>\n",
       "      <td>Paved</td>\n",
       "      <td>golfutar</td>\n",
       "      <td>16</td>\n",
       "      <td>12.0</td>\n",
       "    </tr>\n",
       "  </tbody>\n",
       "</table>\n",
       "</div>"
      ],
      "text/plain": [
       "        City      Price  Bedroom  Bathroom  Floors  Face   Area  Road Width  \\\n",
       "0  Kathmandu   90000000        6         3     2.0  West   16.0        20.0   \n",
       "1  Kathmandu   80000000        5         3     2.0  East   21.0        20.0   \n",
       "2  Kathmandu   70000000        5         3     2.0  East   17.0        20.0   \n",
       "3  Kathmandu  130000000        6         4     3.0  West  10.25        20.0   \n",
       "4  Kathmandu  100000000        6         3     2.0  East   19.5        20.0   \n",
       "\n",
       "  Road Type    Neighborhood  Amenities_Count  Property_Age  \n",
       "0     Paved  budhanilkantha               16           9.0  \n",
       "1     Paved  budhanilkantha               15           9.0  \n",
       "2     Paved         dhapasi               16          11.0  \n",
       "3     Paved       baluwatar               16          65.0  \n",
       "4     Paved        golfutar               16          12.0  "
      ]
     },
     "execution_count": 238,
     "metadata": {},
     "output_type": "execute_result"
    }
   ],
   "source": [
    "data.head()"
   ]
  },
  {
   "cell_type": "code",
   "execution_count": null,
   "id": "7a997705-16aa-4c4a-8cd2-08120d1b8c9d",
   "metadata": {},
   "outputs": [],
   "source": []
  },
  {
   "cell_type": "code",
   "execution_count": 239,
   "id": "6278388d-cb6e-46f3-b4b7-55b6a52e0f52",
   "metadata": {},
   "outputs": [
    {
     "data": {
      "text/plain": [
       "37"
      ]
     },
     "execution_count": 239,
     "metadata": {},
     "output_type": "execute_result"
    }
   ],
   "source": [
    "(data['Area'] == 0).sum()"
   ]
  },
  {
   "cell_type": "code",
   "execution_count": 240,
   "id": "203c3a8d-e7d7-4391-ab4d-8dde98916e48",
   "metadata": {},
   "outputs": [
    {
     "data": {
      "text/plain": [
       "City                 0\n",
       "Price                0\n",
       "Bedroom            954\n",
       "Bathroom           987\n",
       "Floors              25\n",
       "Face                 0\n",
       "Area                37\n",
       "Road Width         172\n",
       "Road Type            0\n",
       "Neighborhood         0\n",
       "Amenities_Count    911\n",
       "Property_Age         0\n",
       "dtype: int64"
      ]
     },
     "execution_count": 240,
     "metadata": {},
     "output_type": "execute_result"
    }
   ],
   "source": [
    "data.eq(0).sum()\n"
   ]
  },
  {
   "cell_type": "code",
   "execution_count": 241,
   "id": "558c3216-a0d4-40ce-aa2b-8629573f0045",
   "metadata": {},
   "outputs": [],
   "source": [
    "cols_to_fix = ['Area', 'Floors']\n",
    "\n",
    "for col in cols_to_fix:\n",
    "    median_val = data.loc[data[col] != 0, col].median()\n",
    "    data.loc[data[col] == 0, col] = median_val\n"
   ]
  },
  {
   "cell_type": "code",
   "execution_count": null,
   "id": "adcd98a4-2341-4077-898d-dd7ce7df35c9",
   "metadata": {},
   "outputs": [],
   "source": []
  },
  {
   "cell_type": "code",
   "execution_count": 242,
   "id": "1945b73e-79a9-4167-998a-8b096863d9a7",
   "metadata": {},
   "outputs": [
    {
     "name": "stdout",
     "output_type": "stream",
     "text": [
      "Rows after floor & area rules: 1771\n"
     ]
    }
   ],
   "source": [
    "# Apply floor & area logic\n",
    "data = data[\n",
    "    ~(\n",
    "        \n",
    "        ((data['Price'] > 50000000) & (data['Floors'] < 2) & (data['Area'] < 3)) |\n",
    "        ((data['Price'] < 50000000) & (data['Area'] > 15)) \n",
    "        \n",
    "    )\n",
    "]\n",
    "\n",
    "print(f\"Rows after floor & area rules: {data.shape[0]}\")\n"
   ]
  },
  {
   "cell_type": "code",
   "execution_count": 243,
   "id": "7962c807-7926-4915-a670-32a3a61b9f28",
   "metadata": {},
   "outputs": [
    {
     "data": {
      "text/html": [
       "<div>\n",
       "<style scoped>\n",
       "    .dataframe tbody tr th:only-of-type {\n",
       "        vertical-align: middle;\n",
       "    }\n",
       "\n",
       "    .dataframe tbody tr th {\n",
       "        vertical-align: top;\n",
       "    }\n",
       "\n",
       "    .dataframe thead th {\n",
       "        text-align: right;\n",
       "    }\n",
       "</style>\n",
       "<table border=\"1\" class=\"dataframe\">\n",
       "  <thead>\n",
       "    <tr style=\"text-align: right;\">\n",
       "      <th></th>\n",
       "      <th>City</th>\n",
       "      <th>Price</th>\n",
       "      <th>Bedroom</th>\n",
       "      <th>Bathroom</th>\n",
       "      <th>Floors</th>\n",
       "      <th>Face</th>\n",
       "      <th>Area</th>\n",
       "      <th>Road Width</th>\n",
       "      <th>Road Type</th>\n",
       "      <th>Neighborhood</th>\n",
       "      <th>Amenities_Count</th>\n",
       "      <th>Property_Age</th>\n",
       "    </tr>\n",
       "  </thead>\n",
       "  <tbody>\n",
       "    <tr>\n",
       "      <th>0</th>\n",
       "      <td>Kathmandu</td>\n",
       "      <td>90000000</td>\n",
       "      <td>6</td>\n",
       "      <td>3</td>\n",
       "      <td>2.0</td>\n",
       "      <td>West</td>\n",
       "      <td>16.0</td>\n",
       "      <td>20.0</td>\n",
       "      <td>Paved</td>\n",
       "      <td>budhanilkantha</td>\n",
       "      <td>16</td>\n",
       "      <td>9.0</td>\n",
       "    </tr>\n",
       "    <tr>\n",
       "      <th>1</th>\n",
       "      <td>Kathmandu</td>\n",
       "      <td>80000000</td>\n",
       "      <td>5</td>\n",
       "      <td>3</td>\n",
       "      <td>2.0</td>\n",
       "      <td>East</td>\n",
       "      <td>21.0</td>\n",
       "      <td>20.0</td>\n",
       "      <td>Paved</td>\n",
       "      <td>budhanilkantha</td>\n",
       "      <td>15</td>\n",
       "      <td>9.0</td>\n",
       "    </tr>\n",
       "    <tr>\n",
       "      <th>2</th>\n",
       "      <td>Kathmandu</td>\n",
       "      <td>70000000</td>\n",
       "      <td>5</td>\n",
       "      <td>3</td>\n",
       "      <td>2.0</td>\n",
       "      <td>East</td>\n",
       "      <td>17.0</td>\n",
       "      <td>20.0</td>\n",
       "      <td>Paved</td>\n",
       "      <td>dhapasi</td>\n",
       "      <td>16</td>\n",
       "      <td>11.0</td>\n",
       "    </tr>\n",
       "    <tr>\n",
       "      <th>3</th>\n",
       "      <td>Kathmandu</td>\n",
       "      <td>130000000</td>\n",
       "      <td>6</td>\n",
       "      <td>4</td>\n",
       "      <td>3.0</td>\n",
       "      <td>West</td>\n",
       "      <td>10.25</td>\n",
       "      <td>20.0</td>\n",
       "      <td>Paved</td>\n",
       "      <td>baluwatar</td>\n",
       "      <td>16</td>\n",
       "      <td>65.0</td>\n",
       "    </tr>\n",
       "    <tr>\n",
       "      <th>4</th>\n",
       "      <td>Kathmandu</td>\n",
       "      <td>100000000</td>\n",
       "      <td>6</td>\n",
       "      <td>3</td>\n",
       "      <td>2.0</td>\n",
       "      <td>East</td>\n",
       "      <td>19.5</td>\n",
       "      <td>20.0</td>\n",
       "      <td>Paved</td>\n",
       "      <td>golfutar</td>\n",
       "      <td>16</td>\n",
       "      <td>12.0</td>\n",
       "    </tr>\n",
       "  </tbody>\n",
       "</table>\n",
       "</div>"
      ],
      "text/plain": [
       "        City      Price  Bedroom  Bathroom  Floors  Face   Area  Road Width  \\\n",
       "0  Kathmandu   90000000        6         3     2.0  West   16.0        20.0   \n",
       "1  Kathmandu   80000000        5         3     2.0  East   21.0        20.0   \n",
       "2  Kathmandu   70000000        5         3     2.0  East   17.0        20.0   \n",
       "3  Kathmandu  130000000        6         4     3.0  West  10.25        20.0   \n",
       "4  Kathmandu  100000000        6         3     2.0  East   19.5        20.0   \n",
       "\n",
       "  Road Type    Neighborhood  Amenities_Count  Property_Age  \n",
       "0     Paved  budhanilkantha               16           9.0  \n",
       "1     Paved  budhanilkantha               15           9.0  \n",
       "2     Paved         dhapasi               16          11.0  \n",
       "3     Paved       baluwatar               16          65.0  \n",
       "4     Paved        golfutar               16          12.0  "
      ]
     },
     "execution_count": 243,
     "metadata": {},
     "output_type": "execute_result"
    }
   ],
   "source": [
    "data.head()"
   ]
  },
  {
   "cell_type": "code",
   "execution_count": null,
   "id": "0d61a07f-2645-4535-b068-cecc5cd874f9",
   "metadata": {},
   "outputs": [],
   "source": []
  },
  {
   "cell_type": "code",
   "execution_count": 244,
   "id": "97d74150-6589-4dfe-89d4-e2a4c2b0ffa2",
   "metadata": {},
   "outputs": [],
   "source": [
    "data_perAana = pd.DataFrame({'Price_per_aana': data['Price'] / data['Area']})"
   ]
  },
  {
   "cell_type": "code",
   "execution_count": 245,
   "id": "54ba44e2-2e68-4b92-b87d-71a3341ce837",
   "metadata": {},
   "outputs": [
    {
     "data": {
      "text/html": [
       "<div>\n",
       "<style scoped>\n",
       "    .dataframe tbody tr th:only-of-type {\n",
       "        vertical-align: middle;\n",
       "    }\n",
       "\n",
       "    .dataframe tbody tr th {\n",
       "        vertical-align: top;\n",
       "    }\n",
       "\n",
       "    .dataframe thead th {\n",
       "        text-align: right;\n",
       "    }\n",
       "</style>\n",
       "<table border=\"1\" class=\"dataframe\">\n",
       "  <thead>\n",
       "    <tr style=\"text-align: right;\">\n",
       "      <th></th>\n",
       "      <th>Price_per_aana</th>\n",
       "    </tr>\n",
       "  </thead>\n",
       "  <tbody>\n",
       "    <tr>\n",
       "      <th>0</th>\n",
       "      <td>5625000.0</td>\n",
       "    </tr>\n",
       "    <tr>\n",
       "      <th>1</th>\n",
       "      <td>3809523.809524</td>\n",
       "    </tr>\n",
       "    <tr>\n",
       "      <th>2</th>\n",
       "      <td>4117647.058824</td>\n",
       "    </tr>\n",
       "    <tr>\n",
       "      <th>3</th>\n",
       "      <td>12682926.829268</td>\n",
       "    </tr>\n",
       "    <tr>\n",
       "      <th>4</th>\n",
       "      <td>5128205.128205</td>\n",
       "    </tr>\n",
       "  </tbody>\n",
       "</table>\n",
       "</div>"
      ],
      "text/plain": [
       "    Price_per_aana\n",
       "0        5625000.0\n",
       "1   3809523.809524\n",
       "2   4117647.058824\n",
       "3  12682926.829268\n",
       "4   5128205.128205"
      ]
     },
     "execution_count": 245,
     "metadata": {},
     "output_type": "execute_result"
    }
   ],
   "source": [
    "data_perAana.head(5)"
   ]
  },
  {
   "cell_type": "code",
   "execution_count": 246,
   "id": "e7d1b44d-fdfb-492c-9700-0d7f3444e231",
   "metadata": {},
   "outputs": [
    {
     "name": "stderr",
     "output_type": "stream",
     "text": [
      "C:\\Users\\abhin\\AppData\\Local\\Temp\\ipykernel_20236\\1563358352.py:1: FutureWarning: Downcasting behavior in `replace` is deprecated and will be removed in a future version. To retain the old behavior, explicitly call `result.infer_objects(copy=False)`. To opt-in to the future behavior, set `pd.set_option('future.no_silent_downcasting', True)`\n",
      "  data_perAana.replace([float('inf'), -float('inf')], np.nan, inplace=True)\n"
     ]
    }
   ],
   "source": [
    "data_perAana.replace([float('inf'), -float('inf')], np.nan, inplace=True)\n",
    "data_perAana.dropna(inplace=True)"
   ]
  },
  {
   "cell_type": "code",
   "execution_count": 247,
   "id": "0610f207-6900-4c87-87ec-a14bede5ac91",
   "metadata": {},
   "outputs": [
    {
     "data": {
      "image/png": "[encoded data removed]",
      "text/plain": [
       "<Figure size 800x600 with 1 Axes>"
      ]
     },
     "metadata": {},
     "output_type": "display_data"
    }
   ],
   "source": [
    "plt.figure(figsize=(8, 6))\n",
    "bins = [3000000, 4000000, 5000000, 6000000, 7000000, 8000000]\n",
    "plt.hist(data_perAana['Price_per_aana'], bins = bins,rwidth=0.8)\n",
    "plt.xlim(3000000, 8000000)\n",
    "plt.title('Histogram of Price per Aana')\n",
    "plt.xlabel('Price per Aana')\n",
    "plt.ylabel('Frequency')\n",
    "plt.show()"
   ]
  },
  {
   "cell_type": "code",
   "execution_count": 248,
   "id": "f2cfd2fa-59e5-4d4c-961e-e3f250fac08a",
   "metadata": {},
   "outputs": [
    {
     "name": "stdout",
     "output_type": "stream",
     "text": [
      "object\n",
      "count     1771.0\n",
      "unique     241.0\n",
      "top          4.0\n",
      "freq       230.0\n",
      "Name: Area, dtype: float64\n",
      "Area\n",
      "4.000000     230\n",
      "5.000000     144\n",
      "3.000000     121\n",
      "6.000000      84\n",
      "8.000000      73\n",
      "            ... \n",
      "13.500000      1\n",
      "1.250000       1\n",
      "5.224251       1\n",
      "6.200000       1\n",
      "3.903579       1\n",
      "Name: count, Length: 241, dtype: int64\n"
     ]
    }
   ],
   "source": [
    "print(data['Area'].dtype)\n",
    "print(data['Area'].describe())\n",
    "print(data['Area'].value_counts())\n"
   ]
  },
  {
   "cell_type": "code",
   "execution_count": 249,
   "id": "61636e47-2fed-4d78-bfe1-4a6bcfc4861a",
   "metadata": {},
   "outputs": [],
   "source": [
    "data['Area'] = pd.to_numeric(data['Area'], errors='coerce')"
   ]
  },
  {
   "cell_type": "code",
   "execution_count": 250,
   "id": "25c340a5-95f1-4dc7-9c2b-7d7a13094571",
   "metadata": {},
   "outputs": [
    {
     "name": "stdout",
     "output_type": "stream",
     "text": [
      "float64\n",
      "count    1771.000000\n",
      "mean        6.166116\n",
      "std         6.736967\n",
      "min         0.008766\n",
      "25%         3.500000\n",
      "50%         4.500000\n",
      "75%         7.000000\n",
      "max       156.750000\n",
      "Name: Area, dtype: float64\n",
      "Area\n",
      "4.000000     230\n",
      "5.000000     144\n",
      "3.000000     121\n",
      "6.000000      84\n",
      "8.000000      73\n",
      "            ... \n",
      "13.500000      1\n",
      "1.250000       1\n",
      "5.224251       1\n",
      "6.200000       1\n",
      "3.903579       1\n",
      "Name: count, Length: 241, dtype: int64\n"
     ]
    }
   ],
   "source": [
    "print(data['Area'].dtype)\n",
    "print(data['Area'].describe())\n",
    "print(data['Area'].value_counts())\n"
   ]
  },
  {
   "cell_type": "code",
   "execution_count": 251,
   "id": "f3942783-a794-4770-99fc-702a865e8fcd",
   "metadata": {},
   "outputs": [],
   "source": [
    "data = data[(data['Area'] >= 2.0) & (data['Area'] <= 100.0)]"
   ]
  },
  {
   "cell_type": "code",
   "execution_count": 252,
   "id": "7f4a8019-1c3a-4409-811b-8c2fbc21caaa",
   "metadata": {},
   "outputs": [
    {
     "name": "stdout",
     "output_type": "stream",
     "text": [
      "float64\n",
      "count    1669.000000\n",
      "mean        6.395926\n",
      "std         5.726851\n",
      "min         2.000000\n",
      "25%         3.600000\n",
      "50%         5.000000\n",
      "75%         7.158510\n",
      "max        96.000000\n",
      "Name: Area, dtype: float64\n",
      "Area\n",
      "4.000000     230\n",
      "5.000000     144\n",
      "3.000000     121\n",
      "6.000000      84\n",
      "8.000000      73\n",
      "            ... \n",
      "26.000000      1\n",
      "13.500000      1\n",
      "5.224251       1\n",
      "6.200000       1\n",
      "3.903579       1\n",
      "Name: count, Length: 202, dtype: int64\n"
     ]
    }
   ],
   "source": [
    "print(data['Area'].dtype)\n",
    "print(data['Area'].describe())\n",
    "print(data['Area'].value_counts())\n"
   ]
  },
  {
   "cell_type": "code",
   "execution_count": 253,
   "id": "5537d9ec-46a8-4b9e-8d6b-3a4bda9c604d",
   "metadata": {},
   "outputs": [
    {
     "data": {
      "text/plain": [
       "Text(0, 0.5, 'Average Price')"
      ]
     },
     "execution_count": 253,
     "metadata": {},
     "output_type": "execute_result"
    },
    {
     "data": {
      "image/png": "[encoded data removed]",
      "text/plain": [
       "<Figure size 640x480 with 1 Axes>"
      ]
     },
     "metadata": {},
     "output_type": "display_data"
    }
   ],
   "source": [
    "avg_price_per_city = data.groupby('City')['Price'].mean()\n",
    "avg_price_per_city.plot(kind='bar', color=['red', 'blue', 'green'])\n",
    "plt.title('Average Price per City')\n",
    "plt.xlabel('City')\n",
    "plt.ylabel('Average Price')"
   ]
  },
  {
   "cell_type": "code",
   "execution_count": 255,
   "id": "1e894535-4946-48f7-b858-cb9eaf63298b",
   "metadata": {},
   "outputs": [],
   "source": [
    "data.drop('Face',axis=1,inplace=True)"
   ]
  },
  {
   "cell_type": "code",
   "execution_count": 256,
   "id": "1844ded9-101d-4ec1-b53a-1f432bf975e1",
   "metadata": {},
   "outputs": [],
   "source": [
    "data.columns = data.columns.str.replace(' ', '_')"
   ]
  },
  {
   "cell_type": "code",
   "execution_count": 257,
   "id": "9f9864b5-041a-4bf8-ba4d-1689b3ccc09f",
   "metadata": {},
   "outputs": [
    {
     "data": {
      "text/plain": [
       "Text(0, 0.5, 'Average Price')"
      ]
     },
     "execution_count": 257,
     "metadata": {},
     "output_type": "execute_result"
    },
    {
     "data": {
      "image/png": "[encoded data removed]",
      "text/plain": [
       "<Figure size 640x480 with 1 Axes>"
      ]
     },
     "metadata": {},
     "output_type": "display_data"
    }
   ],
   "source": [
    "avg_price_per_city = data.groupby('Road_Type')['Price'].mean()\n",
    "avg_price_per_city.plot(kind='bar', color=['red', 'blue', 'green'])\n",
    "plt.title('Average Price per City')\n",
    "plt.xlabel('Road Type')\n",
    "plt.ylabel('Average Price')"
   ]
  },
  {
   "cell_type": "code",
   "execution_count": 258,
   "id": "cf737814-e451-4198-b957-0259a6b51cc3",
   "metadata": {},
   "outputs": [
    {
     "name": "stdout",
     "output_type": "stream",
     "text": [
      "City                object\n",
      "Price                int64\n",
      "Bedroom              int64\n",
      "Bathroom             int64\n",
      "Floors             float64\n",
      "Area               float64\n",
      "Road_Width         float64\n",
      "Road_Type           object\n",
      "Neighborhood        object\n",
      "Amenities_Count      int64\n",
      "Property_Age       float64\n",
      "dtype: object\n"
     ]
    }
   ],
   "source": [
    "print(data.dtypes)"
   ]
  },
  {
   "cell_type": "code",
   "execution_count": null,
   "id": "ae2f41fe-e1ba-4dc3-85e9-994dd2f94b52",
   "metadata": {},
   "outputs": [],
   "source": []
  },
  {
   "cell_type": "code",
   "execution_count": 259,
   "id": "a0a2fd57-c459-4e53-8c63-9b7d0cdadf4c",
   "metadata": {},
   "outputs": [
    {
     "ename": "PermissionError",
     "evalue": "[Errno 13] Permission denied: 'cleaned_data.csv'",
     "output_type": "error",
     "traceback": [
      "\u001b[1;31m---------------------------------------------------------------------------\u001b[0m",
      "\u001b[1;31mPermissionError\u001b[0m                           Traceback (most recent call last)",
      "Cell \u001b[1;32mIn[259], line 1\u001b[0m\n\u001b[1;32m----> 1\u001b[0m data\u001b[38;5;241m.\u001b[39mto_csv(\u001b[38;5;124m'\u001b[39m\u001b[38;5;124mcleaned_data.csv\u001b[39m\u001b[38;5;124m'\u001b[39m, index\u001b[38;5;241m=\u001b[39m\u001b[38;5;28;01mFalse\u001b[39;00m)\n",
      "File \u001b[1;32mD:\\Anaconda\\Lib\\site-packages\\pandas\\util\\_decorators.py:333\u001b[0m, in \u001b[0;36mdeprecate_nonkeyword_arguments.<locals>.decorate.<locals>.wrapper\u001b[1;34m(*args, **kwargs)\u001b[0m\n\u001b[0;32m    327\u001b[0m \u001b[38;5;28;01mif\u001b[39;00m \u001b[38;5;28mlen\u001b[39m(args) \u001b[38;5;241m>\u001b[39m num_allow_args:\n\u001b[0;32m    328\u001b[0m     warnings\u001b[38;5;241m.\u001b[39mwarn(\n\u001b[0;32m    329\u001b[0m         msg\u001b[38;5;241m.\u001b[39mformat(arguments\u001b[38;5;241m=\u001b[39m_format_argument_list(allow_args)),\n\u001b[0;32m    330\u001b[0m         \u001b[38;5;167;01mFutureWarning\u001b[39;00m,\n\u001b[0;32m    331\u001b[0m         stacklevel\u001b[38;5;241m=\u001b[39mfind_stack_level(),\n\u001b[0;32m    332\u001b[0m     )\n\u001b[1;32m--> 333\u001b[0m \u001b[38;5;28;01mreturn\u001b[39;00m func(\u001b[38;5;241m*\u001b[39margs, \u001b[38;5;241m*\u001b[39m\u001b[38;5;241m*\u001b[39mkwargs)\n",
      "File \u001b[1;32mD:\\Anaconda\\Lib\\site-packages\\pandas\\core\\generic.py:3967\u001b[0m, in \u001b[0;36mNDFrame.to_csv\u001b[1;34m(self, path_or_buf, sep, na_rep, float_format, columns, header, index, index_label, mode, encoding, compression, quoting, quotechar, lineterminator, chunksize, date_format, doublequote, escapechar, decimal, errors, storage_options)\u001b[0m\n\u001b[0;32m   3956\u001b[0m df \u001b[38;5;241m=\u001b[39m \u001b[38;5;28mself\u001b[39m \u001b[38;5;28;01mif\u001b[39;00m \u001b[38;5;28misinstance\u001b[39m(\u001b[38;5;28mself\u001b[39m, ABCDataFrame) \u001b[38;5;28;01melse\u001b[39;00m \u001b[38;5;28mself\u001b[39m\u001b[38;5;241m.\u001b[39mto_frame()\n\u001b[0;32m   3958\u001b[0m formatter \u001b[38;5;241m=\u001b[39m DataFrameFormatter(\n\u001b[0;32m   3959\u001b[0m     frame\u001b[38;5;241m=\u001b[39mdf,\n\u001b[0;32m   3960\u001b[0m     header\u001b[38;5;241m=\u001b[39mheader,\n\u001b[1;32m   (...)\u001b[0m\n\u001b[0;32m   3964\u001b[0m     decimal\u001b[38;5;241m=\u001b[39mdecimal,\n\u001b[0;32m   3965\u001b[0m )\n\u001b[1;32m-> 3967\u001b[0m \u001b[38;5;28;01mreturn\u001b[39;00m DataFrameRenderer(formatter)\u001b[38;5;241m.\u001b[39mto_csv(\n\u001b[0;32m   3968\u001b[0m     path_or_buf,\n\u001b[0;32m   3969\u001b[0m     lineterminator\u001b[38;5;241m=\u001b[39mlineterminator,\n\u001b[0;32m   3970\u001b[0m     sep\u001b[38;5;241m=\u001b[39msep,\n\u001b[0;32m   3971\u001b[0m     encoding\u001b[38;5;241m=\u001b[39mencoding,\n\u001b[0;32m   3972\u001b[0m     errors\u001b[38;5;241m=\u001b[39merrors,\n\u001b[0;32m   3973\u001b[0m     compression\u001b[38;5;241m=\u001b[39mcompression,\n\u001b[0;32m   3974\u001b[0m     quoting\u001b[38;5;241m=\u001b[39mquoting,\n\u001b[0;32m   3975\u001b[0m     columns\u001b[38;5;241m=\u001b[39mcolumns,\n\u001b[0;32m   3976\u001b[0m     index_label\u001b[38;5;241m=\u001b[39mindex_label,\n\u001b[0;32m   3977\u001b[0m     mode\u001b[38;5;241m=\u001b[39mmode,\n\u001b[0;32m   3978\u001b[0m     chunksize\u001b[38;5;241m=\u001b[39mchunksize,\n\u001b[0;32m   3979\u001b[0m     quotechar\u001b[38;5;241m=\u001b[39mquotechar,\n\u001b[0;32m   3980\u001b[0m     date_format\u001b[38;5;241m=\u001b[39mdate_format,\n\u001b[0;32m   3981\u001b[0m     doublequote\u001b[38;5;241m=\u001b[39mdoublequote,\n\u001b[0;32m   3982\u001b[0m     escapechar\u001b[38;5;241m=\u001b[39mescapechar,\n\u001b[0;32m   3983\u001b[0m     storage_options\u001b[38;5;241m=\u001b[39mstorage_options,\n\u001b[0;32m   3984\u001b[0m )\n",
      "File \u001b[1;32mD:\\Anaconda\\Lib\\site-packages\\pandas\\io\\formats\\format.py:1014\u001b[0m, in \u001b[0;36mDataFrameRenderer.to_csv\u001b[1;34m(self, path_or_buf, encoding, sep, columns, index_label, mode, compression, quoting, quotechar, lineterminator, chunksize, date_format, doublequote, escapechar, errors, storage_options)\u001b[0m\n\u001b[0;32m    993\u001b[0m     created_buffer \u001b[38;5;241m=\u001b[39m \u001b[38;5;28;01mFalse\u001b[39;00m\n\u001b[0;32m    995\u001b[0m csv_formatter \u001b[38;5;241m=\u001b[39m CSVFormatter(\n\u001b[0;32m    996\u001b[0m     path_or_buf\u001b[38;5;241m=\u001b[39mpath_or_buf,\n\u001b[0;32m    997\u001b[0m     lineterminator\u001b[38;5;241m=\u001b[39mlineterminator,\n\u001b[1;32m   (...)\u001b[0m\n\u001b[0;32m   1012\u001b[0m     formatter\u001b[38;5;241m=\u001b[39m\u001b[38;5;28mself\u001b[39m\u001b[38;5;241m.\u001b[39mfmt,\n\u001b[0;32m   1013\u001b[0m )\n\u001b[1;32m-> 1014\u001b[0m csv_formatter\u001b[38;5;241m.\u001b[39msave()\n\u001b[0;32m   1016\u001b[0m \u001b[38;5;28;01mif\u001b[39;00m created_buffer:\n\u001b[0;32m   1017\u001b[0m     \u001b[38;5;28;01massert\u001b[39;00m \u001b[38;5;28misinstance\u001b[39m(path_or_buf, StringIO)\n",
      "File \u001b[1;32mD:\\Anaconda\\Lib\\site-packages\\pandas\\io\\formats\\csvs.py:251\u001b[0m, in \u001b[0;36mCSVFormatter.save\u001b[1;34m(self)\u001b[0m\n\u001b[0;32m    247\u001b[0m \u001b[38;5;250m\u001b[39m\u001b[38;5;124;03m\"\"\"\u001b[39;00m\n\u001b[0;32m    248\u001b[0m \u001b[38;5;124;03mCreate the writer & save.\u001b[39;00m\n\u001b[0;32m    249\u001b[0m \u001b[38;5;124;03m\"\"\"\u001b[39;00m\n\u001b[0;32m    250\u001b[0m \u001b[38;5;66;03m# apply compression and byte/text conversion\u001b[39;00m\n\u001b[1;32m--> 251\u001b[0m \u001b[38;5;28;01mwith\u001b[39;00m get_handle(\n\u001b[0;32m    252\u001b[0m     \u001b[38;5;28mself\u001b[39m\u001b[38;5;241m.\u001b[39mfilepath_or_buffer,\n\u001b[0;32m    253\u001b[0m     \u001b[38;5;28mself\u001b[39m\u001b[38;5;241m.\u001b[39mmode,\n\u001b[0;32m    254\u001b[0m     encoding\u001b[38;5;241m=\u001b[39m\u001b[38;5;28mself\u001b[39m\u001b[38;5;241m.\u001b[39mencoding,\n\u001b[0;32m    255\u001b[0m     errors\u001b[38;5;241m=\u001b[39m\u001b[38;5;28mself\u001b[39m\u001b[38;5;241m.\u001b[39merrors,\n\u001b[0;32m    256\u001b[0m     compression\u001b[38;5;241m=\u001b[39m\u001b[38;5;28mself\u001b[39m\u001b[38;5;241m.\u001b[39mcompression,\n\u001b[0;32m    257\u001b[0m     storage_options\u001b[38;5;241m=\u001b[39m\u001b[38;5;28mself\u001b[39m\u001b[38;5;241m.\u001b[39mstorage_options,\n\u001b[0;32m    258\u001b[0m ) \u001b[38;5;28;01mas\u001b[39;00m handles:\n\u001b[0;32m    259\u001b[0m     \u001b[38;5;66;03m# Note: self.encoding is irrelevant here\u001b[39;00m\n\u001b[0;32m    260\u001b[0m     \u001b[38;5;28mself\u001b[39m\u001b[38;5;241m.\u001b[39mwriter \u001b[38;5;241m=\u001b[39m csvlib\u001b[38;5;241m.\u001b[39mwriter(\n\u001b[0;32m    261\u001b[0m         handles\u001b[38;5;241m.\u001b[39mhandle,\n\u001b[0;32m    262\u001b[0m         lineterminator\u001b[38;5;241m=\u001b[39m\u001b[38;5;28mself\u001b[39m\u001b[38;5;241m.\u001b[39mlineterminator,\n\u001b[1;32m   (...)\u001b[0m\n\u001b[0;32m    267\u001b[0m         quotechar\u001b[38;5;241m=\u001b[39m\u001b[38;5;28mself\u001b[39m\u001b[38;5;241m.\u001b[39mquotechar,\n\u001b[0;32m    268\u001b[0m     )\n\u001b[0;32m    270\u001b[0m     \u001b[38;5;28mself\u001b[39m\u001b[38;5;241m.\u001b[39m_save()\n",
      "File \u001b[1;32mD:\\Anaconda\\Lib\\site-packages\\pandas\\io\\common.py:873\u001b[0m, in \u001b[0;36mget_handle\u001b[1;34m(path_or_buf, mode, encoding, compression, memory_map, is_text, errors, storage_options)\u001b[0m\n\u001b[0;32m    868\u001b[0m \u001b[38;5;28;01melif\u001b[39;00m \u001b[38;5;28misinstance\u001b[39m(handle, \u001b[38;5;28mstr\u001b[39m):\n\u001b[0;32m    869\u001b[0m     \u001b[38;5;66;03m# Check whether the filename is to be opened in binary mode.\u001b[39;00m\n\u001b[0;32m    870\u001b[0m     \u001b[38;5;66;03m# Binary mode does not support 'encoding' and 'newline'.\u001b[39;00m\n\u001b[0;32m    871\u001b[0m     \u001b[38;5;28;01mif\u001b[39;00m ioargs\u001b[38;5;241m.\u001b[39mencoding \u001b[38;5;129;01mand\u001b[39;00m \u001b[38;5;124m\"\u001b[39m\u001b[38;5;124mb\u001b[39m\u001b[38;5;124m\"\u001b[39m \u001b[38;5;129;01mnot\u001b[39;00m \u001b[38;5;129;01min\u001b[39;00m ioargs\u001b[38;5;241m.\u001b[39mmode:\n\u001b[0;32m    872\u001b[0m         \u001b[38;5;66;03m# Encoding\u001b[39;00m\n\u001b[1;32m--> 873\u001b[0m         handle \u001b[38;5;241m=\u001b[39m \u001b[38;5;28mopen\u001b[39m(\n\u001b[0;32m    874\u001b[0m             handle,\n\u001b[0;32m    875\u001b[0m             ioargs\u001b[38;5;241m.\u001b[39mmode,\n\u001b[0;32m    876\u001b[0m             encoding\u001b[38;5;241m=\u001b[39mioargs\u001b[38;5;241m.\u001b[39mencoding,\n\u001b[0;32m    877\u001b[0m             errors\u001b[38;5;241m=\u001b[39merrors,\n\u001b[0;32m    878\u001b[0m             newline\u001b[38;5;241m=\u001b[39m\u001b[38;5;124m\"\u001b[39m\u001b[38;5;124m\"\u001b[39m,\n\u001b[0;32m    879\u001b[0m         )\n\u001b[0;32m    880\u001b[0m     \u001b[38;5;28;01melse\u001b[39;00m:\n\u001b[0;32m    881\u001b[0m         \u001b[38;5;66;03m# Binary mode\u001b[39;00m\n\u001b[0;32m    882\u001b[0m         handle \u001b[38;5;241m=\u001b[39m \u001b[38;5;28mopen\u001b[39m(handle, ioargs\u001b[38;5;241m.\u001b[39mmode)\n",
      "\u001b[1;31mPermissionError\u001b[0m: [Errno 13] Permission denied: 'cleaned_data.csv'"
     ]
    }
   ],
   "source": [
    "data.to_csv('cleaned_data.csv', index=False)"
   ]
  },
  {
   "cell_type": "code",
   "execution_count": null,
   "id": "10747585-dafc-4227-94a6-416039ef767d",
   "metadata": {},
   "outputs": [],
   "source": []
  }
 ],
 "metadata": {
  "kernelspec": {
   "display_name": "Python [conda env:base] *",
   "language": "python",
   "name": "conda-base-py"
  },
  "language_info": {
   "codemirror_mode": {
    "name": "ipython",
    "version": 3
   },
   "file_extension": ".py",
   "mimetype": "text/x-python",
   "name": "python",
   "nbconvert_exporter": "python",
   "pygments_lexer": "ipython3",
   "version": "3.12.3"
  }
 },
 "nbformat": 4,
 "nbformat_minor": 5
}
